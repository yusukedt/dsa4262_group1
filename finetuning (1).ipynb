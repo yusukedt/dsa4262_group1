{
  "cells": [
    {
      "cell_type": "code",
      "execution_count": 1,
      "id": "c497b7ff",
      "metadata": {
        "colab": {
          "base_uri": "https://localhost:8080/"
        },
        "id": "c497b7ff",
        "outputId": "ce38394c-c372-4d20-f96e-ea8a96e6c488"
      },
      "outputs": [
        {
          "name": "stdout",
          "output_type": "stream",
          "text": [
            "Requirement already satisfied: scikit-learn==1.4.2 in /usr/local/lib/python3.12/dist-packages (1.4.2)\n",
            "Requirement already satisfied: numpy>=1.19.5 in /usr/local/lib/python3.12/dist-packages (from scikit-learn==1.4.2) (2.0.2)\n",
            "Requirement already satisfied: scipy>=1.6.0 in /usr/local/lib/python3.12/dist-packages (from scikit-learn==1.4.2) (1.16.2)\n",
            "Requirement already satisfied: joblib>=1.2.0 in /usr/local/lib/python3.12/dist-packages (from scikit-learn==1.4.2) (1.5.2)\n",
            "Requirement already satisfied: threadpoolctl>=2.0.0 in /usr/local/lib/python3.12/dist-packages (from scikit-learn==1.4.2) (3.6.0)\n",
            "Requirement already satisfied: xgboost==1.7.6 in /usr/local/lib/python3.12/dist-packages (1.7.6)\n",
            "Requirement already satisfied: numpy in /usr/local/lib/python3.12/dist-packages (from xgboost==1.7.6) (2.0.2)\n",
            "Requirement already satisfied: scipy in /usr/local/lib/python3.12/dist-packages (from xgboost==1.7.6) (1.16.2)\n"
          ]
        }
      ],
      "source": [
        "!pip install -U scikit-learn==1.4.2\n",
        "!pip install -U xgboost==1.7.6\n",
        "\n",
        "\n",
        "import pandas as pd\n",
        "import numpy as np\n",
        "from sklearn.model_selection import train_test_split, GridSearchCV\n",
        "from sklearn.utils import resample\n",
        "from sklearn.metrics import (\n",
        "    roc_auc_score,\n",
        "    average_precision_score,\n",
        "    classification_report,\n",
        "    confusion_matrix\n",
        ")\n",
        "import xgboost as xgb"
      ]
    },
    {
      "cell_type": "code",
      "execution_count": 2,
      "id": "4dc8255d",
      "metadata": {
        "colab": {
          "base_uri": "https://localhost:8080/"
        },
        "id": "4dc8255d",
        "outputId": "15582fea-c005-4a92-8312-ef69fc88c659"
      },
      "outputs": [
        {
          "name": "stdout",
          "output_type": "stream",
          "text": [
            "Dataset shape: (957600, 14)\n",
            "Columns: ['gene_id', 'transcript_id', 'transcript_position', 'sequence', 'label', 'feature_1', 'feature_2', 'feature_3', 'feature_4', 'feature_5', 'feature_6', 'feature_7', 'feature_8', 'feature_9']\n",
            "m6A rate: 0.03861111111111111\n",
            "Train: (574560, 9) Val: (191520, 9) Test: (191520, 9)\n"
          ]
        }
      ],
      "source": [
        "# === Load dataset ===\n",
        "df = pd.read_csv(\"Full_genes.csv\")\n",
        "\n",
        "print(\"Dataset shape:\", df.shape)\n",
        "print(\"Columns:\", df.columns.tolist())\n",
        "print(\"m6A rate:\", df['label'].mean())\n",
        "\n",
        "# === Features & labels ===\n",
        "X = df.drop(columns=['gene_id','transcript_id','transcript_position','sequence','label'])\n",
        "y = df['label']\n",
        "\n",
        "# === Train/val/test split ===\n",
        "X_train, X_temp, y_train, y_temp = train_test_split(\n",
        "    X, y, test_size=0.4, random_state=42, stratify=y\n",
        ")\n",
        "X_val, X_test, y_val, y_test = train_test_split(\n",
        "    X_temp, y_temp, test_size=0.5, random_state=42, stratify=y_temp\n",
        ")\n",
        "\n",
        "print(\"Train:\", X_train.shape, \"Val:\", X_val.shape, \"Test:\", X_test.shape)"
      ]
    },
    {
      "cell_type": "code",
      "execution_count": 3,
      "id": "78a3111e",
      "metadata": {
        "colab": {
          "base_uri": "https://localhost:8080/"
        },
        "id": "78a3111e",
        "outputId": "f526cc6b-c893-4777-eecb-409720e4f359"
      },
      "outputs": [
        {
          "name": "stdout",
          "output_type": "stream",
          "text": [
            "Original training size: (574560, 9)\n",
            "After undersampling: (88736, 9)\n",
            "Label distribution after balancing:\n",
            "label\n",
            "0    66552\n",
            "1    22184\n",
            "Name: count, dtype: int64\n"
          ]
        }
      ],
      "source": [
        "# === Handle imbalance with undersampling (3:1 ratio) ===\n",
        "train_df = X_train.copy()\n",
        "train_df['label'] = y_train\n",
        "\n",
        "majority = train_df[train_df['label'] == 0]\n",
        "minority = train_df[train_df['label'] == 1]\n",
        "\n",
        "majority_downsampled = resample(\n",
        "    majority,\n",
        "    replace=False,\n",
        "    n_samples=len(minority) * 3,  # 3:1 ratio\n",
        "    random_state=42\n",
        ")\n",
        "\n",
        "train_bal = pd.concat([majority_downsampled, minority]).sample(frac=1, random_state=42)\n",
        "\n",
        "X_train_bal = train_bal.drop(columns=['label'])\n",
        "y_train_bal = train_bal['label']\n",
        "\n",
        "print(\"Original training size:\", X_train.shape)\n",
        "print(\"After undersampling:\", X_train_bal.shape)\n",
        "print(\"Label distribution after balancing:\")\n",
        "print(y_train_bal.value_counts())"
      ]
    },
    {
      "cell_type": "code",
      "execution_count": null,
      "id": "b7510e32",
      "metadata": {
        "colab": {
          "base_uri": "https://localhost:8080/"
        },
        "id": "b7510e32",
        "outputId": "2824c0ef-bea7-4d65-a39c-f5e4eddbcfb2"
      },
      "outputs": [
        {
          "name": "stdout",
          "output_type": "stream",
          "text": [
            "\n",
            "=== Starting grid search (this may take a while) ===\n",
            "Fitting 3 folds for each of 108 candidates, totalling 324 fits\n"
          ]
        },
        {
          "name": "stderr",
          "output_type": "stream",
          "text": [
            "/usr/local/lib/python3.12/dist-packages/xgboost/sklearn.py:1395: UserWarning: `use_label_encoder` is deprecated in 1.7.0.\n",
            "  warnings.warn(\"`use_label_encoder` is deprecated in 1.7.0.\")\n",
            "/usr/local/lib/python3.12/dist-packages/xgboost/sklearn.py:1395: UserWarning: `use_label_encoder` is deprecated in 1.7.0.\n",
            "  warnings.warn(\"`use_label_encoder` is deprecated in 1.7.0.\")\n",
            "/usr/local/lib/python3.12/dist-packages/xgboost/sklearn.py:1395: UserWarning: `use_label_encoder` is deprecated in 1.7.0.\n",
            "  warnings.warn(\"`use_label_encoder` is deprecated in 1.7.0.\")\n"
          ]
        },
        {
          "name": "stdout",
          "output_type": "stream",
          "text": [
            "\n",
            "Best parameters: {'colsample_bytree': 0.7, 'learning_rate': 0.1, 'max_depth': 7, 'n_estimators': 100, 'scale_pos_weight': 3, 'subsample': 1.0}\n",
            "Best mean ROC-AUC (CV): 0.8283515765073527\n"
          ]
        }
      ],
      "source": [
        "# === Fine-tune XGBoost ===\n",
        "xgb_model = xgb.XGBClassifier(\n",
        "    eval_metric='auc',\n",
        "    use_label_encoder=False,\n",
        "    random_state=42\n",
        ")\n",
        "\n",
        "param_grid = {\n",
        "    'n_estimators': [100, 200, 300],\n",
        "    'max_depth': [3, 5, 7],\n",
        "    'learning_rate': [0.01, 0.1, 0.3],\n",
        "    'subsample': [0.7, 1.0],\n",
        "    'colsample_bytree': [0.7, 1.0],\n",
        "    'scale_pos_weight': [3] \n",
        "}\n",
        "\n",
        "grid = GridSearchCV(\n",
        "    estimator=xgb_model,\n",
        "    param_grid=param_grid,\n",
        "    scoring='roc_auc',\n",
        "    cv=3,\n",
        "    verbose=2,\n",
        "    n_jobs=-1\n",
        ")\n",
        "\n",
        "print(\"\\n=== Starting grid search\")\n",
        "grid.fit(X_train_bal, y_train_bal)\n",
        "\n",
        "print(\"\\nBest parameters:\", grid.best_params_)\n",
        "print(\"Best mean ROC-AUC (CV):\", grid.best_score_)\n",
        "\n",
        "best_model = grid.best_estimator_"
      ]
    },
    {
      "cell_type": "code",
      "execution_count": 5,
      "id": "4e12e7f3",
      "metadata": {
        "colab": {
          "base_uri": "https://localhost:8080/"
        },
        "id": "4e12e7f3",
        "outputId": "f5e777a3-be55-4b6b-ed3b-b00d3e7a90a6"
      },
      "outputs": [
        {
          "name": "stdout",
          "output_type": "stream",
          "text": [
            "\n",
            "=== Validation Set Evaluation ===\n",
            "Accuracy: 0.7463450292397661\n",
            "ROC-AUC: 0.8330014094586029\n",
            "PR-AUC: 0.22779669030574937\n",
            "Confusion Matrix:\n",
            " [[137321  46804]\n",
            " [  1776   5619]]\n",
            "              precision    recall  f1-score   support\n",
            "\n",
            "           0     0.9872    0.7458    0.8497    184125\n",
            "           1     0.1072    0.7598    0.1879      7395\n",
            "\n",
            "    accuracy                         0.7463    191520\n",
            "   macro avg     0.5472    0.7528    0.5188    191520\n",
            "weighted avg     0.9533    0.7463    0.8241    191520\n",
            "\n",
            "\n",
            "=== Test Set Evaluation ===\n",
            "Accuracy: 0.7442303675856308\n",
            "ROC-AUC: 0.8315793616629646\n",
            "PR-AUC: 0.23062596513392647\n",
            "Confusion Matrix:\n",
            " [[136977  47148]\n",
            " [  1837   5558]]\n",
            "              precision    recall  f1-score   support\n",
            "\n",
            "           0     0.9868    0.7439    0.8483    184125\n",
            "           1     0.1055    0.7516    0.1850      7395\n",
            "\n",
            "    accuracy                         0.7442    191520\n",
            "   macro avg     0.5461    0.7478    0.5166    191520\n",
            "weighted avg     0.9527    0.7442    0.8227    191520\n",
            "\n"
          ]
        }
      ],
      "source": [
        "# === Evaluate on validation and test sets ===\n",
        "for split_name, (X_eval, y_eval) in {\n",
        "    \"Validation\": (X_val, y_val),\n",
        "    \"Test\": (X_test, y_test)\n",
        "}.items():\n",
        "    y_pred = best_model.predict(X_eval)\n",
        "    y_prob = best_model.predict_proba(X_eval)[:, 1]\n",
        "    print(f\"\\n=== {split_name} Set Evaluation ===\")\n",
        "    print(\"Accuracy:\", (y_pred == y_eval).mean())\n",
        "    print(\"ROC-AUC:\", roc_auc_score(y_eval, y_prob))\n",
        "    print(\"PR-AUC:\", average_precision_score(y_eval, y_prob))\n",
        "    print(\"Confusion Matrix:\\n\", confusion_matrix(y_eval, y_pred))\n",
        "    print(classification_report(y_eval, y_pred, digits=4))"
      ]
    },
    {
      "cell_type": "code",
      "execution_count": 6,
      "id": "7141f810",
      "metadata": {
        "colab": {
          "base_uri": "https://localhost:8080/",
          "height": 472
        },
        "id": "7141f810",
        "outputId": "24394f4c-2b03-432e-e74d-859d021f527b"
      },
      "outputs": [
        {
          "data": {
            "image/png": "[encoded data removed]",
            "text/plain": [
              "<Figure size 640x480 with 1 Axes>"
            ]
          },
          "metadata": {},
          "output_type": "display_data"
        }
      ],
      "source": [
        "from sklearn.metrics import precision_recall_curve\n",
        "import matplotlib.pyplot as plt\n",
        "\n",
        "p, r, _ = precision_recall_curve(y_test, best_model.predict_proba(X_test)[:,1])\n",
        "plt.plot(r, p)\n",
        "plt.xlabel('Recall')\n",
        "plt.ylabel('Precision')\n",
        "plt.title('Precision–Recall Curve')\n",
        "plt.show()\n"
      ]
    },
    {
      "cell_type": "code",
      "execution_count": null,
      "id": "0KNnbIUCj6bs",
      "metadata": {
        "id": "0KNnbIUCj6bs"
      },
      "outputs": [],
      "source": [
        "import joblib\n",
        "import json\n",
        "from sklearn.metrics import classification_report, confusion_matrix, roc_auc_score, average_precision_score\n",
        "\n",
        "# Save trained model and best parameter\n",
        "joblib.dump(best_model, \"xgb_best_model.pkl\")\n",
        "\n",
        "with open(\"xgb_best_params.json\", \"w\") as f:\n",
        "    json.dump(grid.best_params_, f, indent=4)\n"
      ]
    },
    {
      "cell_type": "code",
      "execution_count": null,
      "id": "8zQUaWTSkkdK",
      "metadata": {
        "id": "8zQUaWTSkkdK"
      },
      "outputs": [],
      "source": [
        "import numpy as np\n",
        "\n",
        "y_pred = best_model.predict(X_test)\n",
        "y_prob = best_model.predict_proba(X_test)[:, 1]\n",
        "\n",
        "results = {\n",
        "    \"Accuracy\": float((y_pred == y_test).mean()),\n",
        "    \"ROC_AUC\": float(roc_auc_score(y_test, y_prob)),\n",
        "    \"PR_AUC\": float(average_precision_score(y_test, y_prob)),\n",
        "    \"Confusion_Matrix\": confusion_matrix(y_test, y_pred).tolist(),\n",
        "    \"Classification_Report\": classification_report(y_test, y_pred, output_dict=True)\n",
        "}\n",
        "\n",
        "with open(\"xgb_eval_results.json\", \"w\") as f:\n",
        "    json.dump(results, f, indent=4)\n"
      ]
    },
    {
      "cell_type": "code",
      "execution_count": 10,
      "id": "EcJqJ8PTknXS",
      "metadata": {
        "colab": {
          "base_uri": "https://localhost:8080/",
          "height": 17
        },
        "id": "EcJqJ8PTknXS",
        "outputId": "7dbb9484-dfe3-4e0a-a463-930739f10957"
      },
      "outputs": [
        {
          "data": {
            "application/javascript": "\n    async function download(id, filename, size) {\n      if (!google.colab.kernel.accessAllowed) {\n        return;\n      }\n      const div = document.createElement('div');\n      const label = document.createElement('label');\n      label.textContent = `Downloading \"${filename}\": `;\n      div.appendChild(label);\n      const progress = document.createElement('progress');\n      progress.max = size;\n      div.appendChild(progress);\n      document.body.appendChild(div);\n\n      const buffers = [];\n      let downloaded = 0;\n\n      const channel = await google.colab.kernel.comms.open(id);\n      // Send a message to notify the kernel that we're ready.\n      channel.send({})\n\n      for await (const message of channel.messages) {\n        // Send a message to notify the kernel that we're ready.\n        channel.send({})\n        if (message.buffers) {\n          for (const buffer of message.buffers) {\n            buffers.push(buffer);\n            downloaded += buffer.byteLength;\n            progress.value = downloaded;\n          }\n        }\n      }\n      const blob = new Blob(buffers, {type: 'application/binary'});\n      const a = document.createElement('a');\n      a.href = window.URL.createObjectURL(blob);\n      a.download = filename;\n      div.appendChild(a);\n      a.click();\n      div.remove();\n    }\n  ",
            "text/plain": [
              "<IPython.core.display.Javascript object>"
            ]
          },
          "metadata": {},
          "output_type": "display_data"
        },
        {
          "data": {
            "application/javascript": "download(\"download_b1c97b9d-6ade-4d1c-bdb0-38cb58e4bf10\", \"xgb_best_model.pkl\", 720154)",
            "text/plain": [
              "<IPython.core.display.Javascript object>"
            ]
          },
          "metadata": {},
          "output_type": "display_data"
        },
        {
          "data": {
            "application/javascript": "\n    async function download(id, filename, size) {\n      if (!google.colab.kernel.accessAllowed) {\n        return;\n      }\n      const div = document.createElement('div');\n      const label = document.createElement('label');\n      label.textContent = `Downloading \"${filename}\": `;\n      div.appendChild(label);\n      const progress = document.createElement('progress');\n      progress.max = size;\n      div.appendChild(progress);\n      document.body.appendChild(div);\n\n      const buffers = [];\n      let downloaded = 0;\n\n      const channel = await google.colab.kernel.comms.open(id);\n      // Send a message to notify the kernel that we're ready.\n      channel.send({})\n\n      for await (const message of channel.messages) {\n        // Send a message to notify the kernel that we're ready.\n        channel.send({})\n        if (message.buffers) {\n          for (const buffer of message.buffers) {\n            buffers.push(buffer);\n            downloaded += buffer.byteLength;\n            progress.value = downloaded;\n          }\n        }\n      }\n      const blob = new Blob(buffers, {type: 'application/binary'});\n      const a = document.createElement('a');\n      a.href = window.URL.createObjectURL(blob);\n      a.download = filename;\n      div.appendChild(a);\n      a.click();\n      div.remove();\n    }\n  ",
            "text/plain": [
              "<IPython.core.display.Javascript object>"
            ]
          },
          "metadata": {},
          "output_type": "display_data"
        },
        {
          "data": {
            "application/javascript": "download(\"download_84751f57-16b2-41f2-9e9d-6761f86e8ebd\", \"xgb_best_params.json\", 151)",
            "text/plain": [
              "<IPython.core.display.Javascript object>"
            ]
          },
          "metadata": {},
          "output_type": "display_data"
        },
        {
          "data": {
            "application/javascript": "\n    async function download(id, filename, size) {\n      if (!google.colab.kernel.accessAllowed) {\n        return;\n      }\n      const div = document.createElement('div');\n      const label = document.createElement('label');\n      label.textContent = `Downloading \"${filename}\": `;\n      div.appendChild(label);\n      const progress = document.createElement('progress');\n      progress.max = size;\n      div.appendChild(progress);\n      document.body.appendChild(div);\n\n      const buffers = [];\n      let downloaded = 0;\n\n      const channel = await google.colab.kernel.comms.open(id);\n      // Send a message to notify the kernel that we're ready.\n      channel.send({})\n\n      for await (const message of channel.messages) {\n        // Send a message to notify the kernel that we're ready.\n        channel.send({})\n        if (message.buffers) {\n          for (const buffer of message.buffers) {\n            buffers.push(buffer);\n            downloaded += buffer.byteLength;\n            progress.value = downloaded;\n          }\n        }\n      }\n      const blob = new Blob(buffers, {type: 'application/binary'});\n      const a = document.createElement('a');\n      a.href = window.URL.createObjectURL(blob);\n      a.download = filename;\n      div.appendChild(a);\n      a.click();\n      div.remove();\n    }\n  ",
            "text/plain": [
              "<IPython.core.display.Javascript object>"
            ]
          },
          "metadata": {},
          "output_type": "display_data"
        },
        {
          "data": {
            "application/javascript": "download(\"download_54aa539d-00b3-4688-89ec-cb69bf7b8519\", \"xgb_eval_results.json\", 1105)",
            "text/plain": [
              "<IPython.core.display.Javascript object>"
            ]
          },
          "metadata": {},
          "output_type": "display_data"
        }
      ],
      "source": [
        "from google.colab import files\n",
        "\n",
        "files.download(\"xgb_best_model.pkl\")\n",
        "files.download(\"xgb_best_params.json\")\n",
        "files.download(\"xgb_eval_results.json\")\n"
      ]
    }
  ],
  "metadata": {
    "accelerator": "GPU",
    "colab": {
      "gpuType": "T4",
      "provenance": []
    },
    "kernelspec": {
      "display_name": "Python 3",
      "name": "python3"
    },
    "language_info": {
      "codemirror_mode": {
        "name": "ipython",
        "version": 3
      },
      "file_extension": ".py",
      "mimetype": "text/x-python",
      "name": "python",
      "nbconvert_exporter": "python",
      "pygments_lexer": "ipython3",
      "version": "3.10.11"
    }
  },
  "nbformat": 4,
  "nbformat_minor": 5
}
