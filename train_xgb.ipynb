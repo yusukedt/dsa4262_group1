{
  "cells": [
    {
      "cell_type": "code",
      "execution_count": 3,
      "metadata": {
        "colab": {
          "base_uri": "https://localhost:8080/"
        },
        "id": "9Ci8wYVTt6Do",
        "outputId": "47004f74-ce43-418e-9c14-26a5925d1ef1"
      },
      "outputs": [
        {
          "name": "stdout",
          "output_type": "stream",
          "text": [
            "Requirement already satisfied: xgboost==1.7.6 in c:\\users\\user10\\appdata\\local\\programs\\python\\python310\\lib\\site-packages (1.7.6)\n",
            "Requirement already satisfied: numpy in c:\\users\\user10\\appdata\\local\\programs\\python\\python310\\lib\\site-packages (from xgboost==1.7.6) (1.26.4)\n",
            "Requirement already satisfied: scipy in c:\\users\\user10\\appdata\\local\\programs\\python\\python310\\lib\\site-packages (from xgboost==1.7.6) (1.11.1)\n"
          ]
        },
        {
          "name": "stderr",
          "output_type": "stream",
          "text": [
            "\n",
            "[notice] A new release of pip is available: 24.2 -> 25.2\n",
            "[notice] To update, run: python.exe -m pip install --upgrade pip\n"
          ]
        }
      ],
      "source": [
        "!pip install xgboost==1.7.6\n"
      ]
    },
    {
      "cell_type": "code",
      "execution_count": 5,
      "metadata": {
        "colab": {
          "base_uri": "https://localhost:8080/"
        },
        "id": "NTGevCdfqV96",
        "outputId": "156fdb09-9d5b-4c47-9e0f-b3572d84fc7e"
      },
      "outputs": [
        {
          "name": "stdout",
          "output_type": "stream",
          "text": [
            "Dataset shape: (128461, 14)\n",
            "Columns: ['gene_id', 'transcript_id', 'transcript_position', 'sequence', 'label', 'feature_1', 'feature_2', 'feature_3', 'feature_4', 'feature_5', 'feature_6', 'feature_7', 'feature_8', 'feature_9']\n",
            "m6A rate: 0.029051618779240392\n",
            "Train: (77076, 9) Val: (25692, 9) Test: (25693, 9)\n",
            "scale_pos_weight: 33.42429656096471\n"
          ]
        }
      ],
      "source": [
        "import pandas as pd\n",
        "import numpy as np\n",
        "from sklearn.model_selection import train_test_split\n",
        "from sklearn.metrics import roc_auc_score, average_precision_score, classification_report\n",
        "import xgboost as xgb\n",
        "\n",
        "# === Load dataset ===\n",
        "df = pd.read_csv(\"C:/Users/user10/Desktop/DSA4262/Project data/50_genes.csv\")\n",
        "\n",
        "print(\"Dataset shape:\", df.shape)\n",
        "print(\"Columns:\", df.columns.tolist())\n",
        "print(\"m6A rate:\", df['label'].mean())\n",
        "\n",
        "# === Features & labels ===\n",
        "X = df.drop(columns=['gene_id','transcript_id','transcript_position','sequence','label'])\n",
        "y = df['label']\n",
        "\n",
        "# === Train/val/test split ===\n",
        "X_train, X_temp, y_train, y_temp = train_test_split(X, y, test_size=0.4, random_state=42, stratify=y)\n",
        "X_val, X_test, y_val, y_test   = train_test_split(X_temp, y_temp, test_size=0.5, random_state=42, stratify=y_temp)\n",
        "\n",
        "print(\"Train:\", X_train.shape, \"Val:\", X_val.shape, \"Test:\", X_test.shape)\n",
        "\n",
        "# === Handle imbalance ===\n",
        "pos = y_train.sum()\n",
        "neg = len(y_train) - pos\n",
        "scale_pos_weight = neg / pos\n",
        "print(\"scale_pos_weight:\", scale_pos_weight)\n",
        "\n"
      ]
    },
    {
      "cell_type": "code",
      "execution_count": 6,
      "metadata": {
        "colab": {
          "base_uri": "https://localhost:8080/"
        },
        "id": "9BwCk4ODtfqT",
        "outputId": "96db8268-4deb-40f7-afe0-ad9776717c2a"
      },
      "outputs": [
        {
          "name": "stderr",
          "output_type": "stream",
          "text": [
            "c:\\Users\\user10\\AppData\\Local\\Programs\\Python\\Python310\\lib\\site-packages\\xgboost\\sklearn.py:1395: UserWarning: `use_label_encoder` is deprecated in 1.7.0.\n",
            "  warnings.warn(\"`use_label_encoder` is deprecated in 1.7.0.\")\n",
            "c:\\Users\\user10\\AppData\\Local\\Programs\\Python\\Python310\\lib\\site-packages\\xgboost\\sklearn.py:835: UserWarning: `early_stopping_rounds` in `fit` method is deprecated for better compatibility with scikit-learn, use `early_stopping_rounds` in constructor or`set_params` instead.\n",
            "  warnings.warn(\n"
          ]
        },
        {
          "name": "stdout",
          "output_type": "stream",
          "text": [
            "[0]\tvalidation_0-auc:0.75744\n",
            "[1]\tvalidation_0-auc:0.76976\n",
            "[2]\tvalidation_0-auc:0.77738\n",
            "[3]\tvalidation_0-auc:0.78396\n",
            "[4]\tvalidation_0-auc:0.78418\n",
            "[5]\tvalidation_0-auc:0.78403\n",
            "[6]\tvalidation_0-auc:0.78383\n",
            "[7]\tvalidation_0-auc:0.78474\n",
            "[8]\tvalidation_0-auc:0.78683\n",
            "[9]\tvalidation_0-auc:0.78637\n",
            "[10]\tvalidation_0-auc:0.78647\n",
            "[11]\tvalidation_0-auc:0.78618\n",
            "[12]\tvalidation_0-auc:0.78633\n",
            "[13]\tvalidation_0-auc:0.78719\n",
            "[14]\tvalidation_0-auc:0.78616\n",
            "[15]\tvalidation_0-auc:0.78669\n",
            "[16]\tvalidation_0-auc:0.78639\n",
            "[17]\tvalidation_0-auc:0.78917\n",
            "[18]\tvalidation_0-auc:0.78897\n",
            "[19]\tvalidation_0-auc:0.78887\n",
            "[20]\tvalidation_0-auc:0.78933\n",
            "[21]\tvalidation_0-auc:0.78973\n",
            "[22]\tvalidation_0-auc:0.79139\n",
            "[23]\tvalidation_0-auc:0.79201\n",
            "[24]\tvalidation_0-auc:0.79248\n",
            "[25]\tvalidation_0-auc:0.79248\n",
            "[26]\tvalidation_0-auc:0.79287\n",
            "[27]\tvalidation_0-auc:0.79325\n",
            "[28]\tvalidation_0-auc:0.79496\n",
            "[29]\tvalidation_0-auc:0.79493\n",
            "[30]\tvalidation_0-auc:0.79455\n",
            "[31]\tvalidation_0-auc:0.79392\n",
            "[32]\tvalidation_0-auc:0.79435\n",
            "[33]\tvalidation_0-auc:0.79398\n",
            "[34]\tvalidation_0-auc:0.79382\n",
            "[35]\tvalidation_0-auc:0.79445\n",
            "[36]\tvalidation_0-auc:0.79485\n",
            "[37]\tvalidation_0-auc:0.79451\n",
            "[38]\tvalidation_0-auc:0.79439\n",
            "[39]\tvalidation_0-auc:0.79409\n",
            "[40]\tvalidation_0-auc:0.79389\n",
            "[41]\tvalidation_0-auc:0.79373\n",
            "[42]\tvalidation_0-auc:0.79358\n",
            "[43]\tvalidation_0-auc:0.79378\n",
            "[44]\tvalidation_0-auc:0.79404\n",
            "[45]\tvalidation_0-auc:0.79427\n",
            "[46]\tvalidation_0-auc:0.79476\n",
            "[47]\tvalidation_0-auc:0.79469\n",
            "[48]\tvalidation_0-auc:0.79498\n",
            "[49]\tvalidation_0-auc:0.79529\n",
            "[50]\tvalidation_0-auc:0.79504\n",
            "[51]\tvalidation_0-auc:0.79477\n",
            "[52]\tvalidation_0-auc:0.79478\n",
            "[53]\tvalidation_0-auc:0.79534\n",
            "[54]\tvalidation_0-auc:0.79543\n",
            "[55]\tvalidation_0-auc:0.79560\n",
            "[56]\tvalidation_0-auc:0.79547\n",
            "[57]\tvalidation_0-auc:0.79546\n",
            "[58]\tvalidation_0-auc:0.79610\n",
            "[59]\tvalidation_0-auc:0.79614\n",
            "[60]\tvalidation_0-auc:0.79627\n",
            "[61]\tvalidation_0-auc:0.79662\n",
            "[62]\tvalidation_0-auc:0.79699\n",
            "[63]\tvalidation_0-auc:0.79764\n",
            "[64]\tvalidation_0-auc:0.79747\n",
            "[65]\tvalidation_0-auc:0.79770\n",
            "[66]\tvalidation_0-auc:0.79785\n",
            "[67]\tvalidation_0-auc:0.79792\n",
            "[68]\tvalidation_0-auc:0.79792\n",
            "[69]\tvalidation_0-auc:0.79789\n",
            "[70]\tvalidation_0-auc:0.79780\n",
            "[71]\tvalidation_0-auc:0.79796\n",
            "[72]\tvalidation_0-auc:0.79794\n",
            "[73]\tvalidation_0-auc:0.79758\n",
            "[74]\tvalidation_0-auc:0.79764\n",
            "[75]\tvalidation_0-auc:0.79773\n",
            "[76]\tvalidation_0-auc:0.79768\n",
            "[77]\tvalidation_0-auc:0.79761\n",
            "[78]\tvalidation_0-auc:0.79777\n",
            "[79]\tvalidation_0-auc:0.79782\n",
            "[80]\tvalidation_0-auc:0.79789\n",
            "[81]\tvalidation_0-auc:0.79786\n",
            "[82]\tvalidation_0-auc:0.79849\n",
            "[83]\tvalidation_0-auc:0.79858\n",
            "[84]\tvalidation_0-auc:0.79881\n",
            "[85]\tvalidation_0-auc:0.79902\n",
            "[86]\tvalidation_0-auc:0.79930\n",
            "[87]\tvalidation_0-auc:0.79926\n",
            "[88]\tvalidation_0-auc:0.79898\n",
            "[89]\tvalidation_0-auc:0.79905\n",
            "[90]\tvalidation_0-auc:0.79928\n",
            "[91]\tvalidation_0-auc:0.79923\n",
            "[92]\tvalidation_0-auc:0.79932\n",
            "[93]\tvalidation_0-auc:0.79939\n",
            "[94]\tvalidation_0-auc:0.79951\n",
            "[95]\tvalidation_0-auc:0.79951\n",
            "[96]\tvalidation_0-auc:0.79933\n",
            "[97]\tvalidation_0-auc:0.79933\n",
            "[98]\tvalidation_0-auc:0.79914\n",
            "[99]\tvalidation_0-auc:0.79919\n",
            "[100]\tvalidation_0-auc:0.79975\n",
            "[101]\tvalidation_0-auc:0.79970\n",
            "[102]\tvalidation_0-auc:0.79989\n",
            "[103]\tvalidation_0-auc:0.80026\n",
            "[104]\tvalidation_0-auc:0.79998\n",
            "[105]\tvalidation_0-auc:0.79998\n",
            "[106]\tvalidation_0-auc:0.80027\n",
            "[107]\tvalidation_0-auc:0.80033\n",
            "[108]\tvalidation_0-auc:0.80056\n",
            "[109]\tvalidation_0-auc:0.80062\n",
            "[110]\tvalidation_0-auc:0.80070\n",
            "[111]\tvalidation_0-auc:0.80019\n",
            "[112]\tvalidation_0-auc:0.80032\n",
            "[113]\tvalidation_0-auc:0.80028\n",
            "[114]\tvalidation_0-auc:0.80025\n",
            "[115]\tvalidation_0-auc:0.80032\n",
            "[116]\tvalidation_0-auc:0.80011\n",
            "[117]\tvalidation_0-auc:0.80026\n",
            "[118]\tvalidation_0-auc:0.80034\n",
            "[119]\tvalidation_0-auc:0.80013\n",
            "[120]\tvalidation_0-auc:0.80016\n",
            "[121]\tvalidation_0-auc:0.80032\n",
            "[122]\tvalidation_0-auc:0.80055\n",
            "[123]\tvalidation_0-auc:0.80042\n",
            "[124]\tvalidation_0-auc:0.80031\n",
            "[125]\tvalidation_0-auc:0.80033\n",
            "[126]\tvalidation_0-auc:0.80013\n",
            "[127]\tvalidation_0-auc:0.79998\n",
            "[128]\tvalidation_0-auc:0.80019\n",
            "[129]\tvalidation_0-auc:0.80047\n",
            "Training finished.\n"
          ]
        }
      ],
      "source": [
        "import xgboost as xgb\n",
        "\n",
        "model = xgb.XGBClassifier(\n",
        "    objective=\"binary:logistic\",\n",
        "    eval_metric=\"auc\",\n",
        "    use_label_encoder=False,   \n",
        "    scale_pos_weight=scale_pos_weight,\n",
        "    n_estimators=300,\n",
        "    max_depth=5,\n",
        "    learning_rate=0.05,\n",
        "    subsample=0.8,\n",
        "    colsample_bytree=0.8,\n",
        "    random_state=42,\n",
        "    n_jobs=-1\n",
        ")\n",
        "\n",
        "# Train with early stopping\n",
        "model.fit(\n",
        "    X_train, y_train,\n",
        "    eval_set=[(X_val, y_val)],\n",
        "    early_stopping_rounds=20,\n",
        "    verbose=True\n",
        ")\n",
        "\n",
        "print(\"Training finished.\")\n"
      ]
    },
    {
      "cell_type": "code",
      "execution_count": 7,
      "metadata": {
        "colab": {
          "base_uri": "https://localhost:8080/",
          "height": 258
        },
        "id": "sWfOGfBjtm64",
        "outputId": "3461daa1-b59c-43bf-ac79-45ad08fe14a5"
      },
      "outputs": [
        {
          "name": "stdout",
          "output_type": "stream",
          "text": [
            "Test ROC AUC: 0.7903206132743379\n",
            "Test PR AUC: 0.13412537775568553\n",
            "Saved predictions to xgb_predictions.csv\n"
          ]
        },
        {
          "data": {
            "text/html": [
              "<div>\n",
              "<style scoped>\n",
              "    .dataframe tbody tr th:only-of-type {\n",
              "        vertical-align: middle;\n",
              "    }\n",
              "\n",
              "    .dataframe tbody tr th {\n",
              "        vertical-align: top;\n",
              "    }\n",
              "\n",
              "    .dataframe thead th {\n",
              "        text-align: right;\n",
              "    }\n",
              "</style>\n",
              "<table border=\"1\" class=\"dataframe\">\n",
              "  <thead>\n",
              "    <tr style=\"text-align: right;\">\n",
              "      <th></th>\n",
              "      <th>transcript_id</th>\n",
              "      <th>transcript_position</th>\n",
              "      <th>score</th>\n",
              "    </tr>\n",
              "  </thead>\n",
              "  <tbody>\n",
              "    <tr>\n",
              "      <th>111150</th>\n",
              "      <td>ENST00000601697</td>\n",
              "      <td>1098</td>\n",
              "      <td>0.397032</td>\n",
              "    </tr>\n",
              "    <tr>\n",
              "      <th>94907</th>\n",
              "      <td>ENST00000549920</td>\n",
              "      <td>403</td>\n",
              "      <td>0.578367</td>\n",
              "    </tr>\n",
              "    <tr>\n",
              "      <th>28339</th>\n",
              "      <td>ENST00000009589</td>\n",
              "      <td>324</td>\n",
              "      <td>0.137155</td>\n",
              "    </tr>\n",
              "    <tr>\n",
              "      <th>71625</th>\n",
              "      <td>ENST00000044462</td>\n",
              "      <td>816</td>\n",
              "      <td>0.522233</td>\n",
              "    </tr>\n",
              "    <tr>\n",
              "      <th>61357</th>\n",
              "      <td>ENST00000012443</td>\n",
              "      <td>889</td>\n",
              "      <td>0.297478</td>\n",
              "    </tr>\n",
              "  </tbody>\n",
              "</table>\n",
              "</div>"
            ],
            "text/plain": [
              "          transcript_id  transcript_position     score\n",
              "111150  ENST00000601697                 1098  0.397032\n",
              "94907   ENST00000549920                  403  0.578367\n",
              "28339   ENST00000009589                  324  0.137155\n",
              "71625   ENST00000044462                  816  0.522233\n",
              "61357   ENST00000012443                  889  0.297478"
            ]
          },
          "execution_count": 7,
          "metadata": {},
          "output_type": "execute_result"
        }
      ],
      "source": [
        "# === Evaluate model ===\n",
        "y_pred_prob = model.predict_proba(X_test)[:,1]\n",
        "\n",
        "roc = roc_auc_score(y_test, y_pred_prob)\n",
        "pr  = average_precision_score(y_test, y_pred_prob)\n",
        "\n",
        "print(\"Test ROC AUC:\", roc)\n",
        "print(\"Test PR AUC:\", pr)\n",
        "\n",
        "# Save the results\n",
        "output = df.loc[y_test.index, ['transcript_id','transcript_position']].copy()\n",
        "output['score'] = y_pred_prob\n",
        "\n",
        "output.to_csv(\"xgb_predictions.csv\", index=False)\n",
        "print(\"Saved predictions to xgb_predictions.csv\")\n",
        "\n",
        "output.head()"
      ]
    }
  ],
  "metadata": {
    "colab": {
      "provenance": []
    },
    "kernelspec": {
      "display_name": "Python 3",
      "name": "python3"
    },
    "language_info": {
      "codemirror_mode": {
        "name": "ipython",
        "version": 3
      },
      "file_extension": ".py",
      "mimetype": "text/x-python",
      "name": "python",
      "nbconvert_exporter": "python",
      "pygments_lexer": "ipython3",
      "version": "3.10.11"
    }
  },
  "nbformat": 4,
  "nbformat_minor": 0
}
