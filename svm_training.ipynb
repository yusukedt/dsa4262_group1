{
 "cells": [
  {
   "cell_type": "markdown",
   "id": "205539e5",
   "metadata": {},
   "source": [
    "**SVM Model for training**\n",
    "-\n",
    "The purpose of this notebook is to import direct RNA sequencing data and use it for training a machine learning model. This model is then optimized to get the final model. The data used in this notebook are `dataset0.json`, which contains the feature data, and `data.info.labelled`, which contains the actual labels. "
   ]
  },
  {
   "cell_type": "code",
   "id": "fc553161",
   "metadata": {
    "ExecuteTime": {
     "end_time": "2025-10-14T12:41:58.886538Z",
     "start_time": "2025-10-14T12:41:28.329592Z"
    }
   },
   "source": [
    "# Load the JSON file, reading each line and storing it as an element in a list\n",
    "import gzip\n",
    "import json\n",
    "\n",
    "json_path = \"dataset0.json.gz\"\n",
    "\n",
    "# Load in the feature data\n",
    "data = []\n",
    "with gzip.open(json_path, 'rt', encoding='utf-8') as f: \n",
    "    for line in f:\n",
    "        if line.strip():  # skip empty lines\n",
    "            record = json.loads(line)\n",
    "            data.append(record)"
   ],
   "outputs": [],
   "execution_count": 1
  },
  {
   "cell_type": "code",
   "id": "6cc7f655",
   "metadata": {
    "ExecuteTime": {
     "end_time": "2025-10-14T12:42:17.544309Z",
     "start_time": "2025-10-14T12:42:15.149988Z"
    }
   },
   "source": [
    "# Load in the m6A labels\n",
    "import pandas as pd\n",
    "\n",
    "data_labels = pd.read_csv(\"data.info.labelled\")"
   ],
   "outputs": [],
   "execution_count": 2
  },
  {
   "cell_type": "markdown",
   "id": "86231a45",
   "metadata": {},
   "source": [
    "### Aggregation of feature reads data"
   ]
  },
  {
   "cell_type": "code",
   "id": "ce258f5b",
   "metadata": {
    "ExecuteTime": {
     "end_time": "2025-10-14T12:42:30.508520Z",
     "start_time": "2025-10-14T12:42:24.757631Z"
    }
   },
   "source": [
    "# Let us compute the aggregate numbers for each line, using mean\n",
    "import numpy as np\n",
    "\n",
    "def aggregation(record):\n",
    "    aggregates = []\n",
    "\n",
    "    for transcript_id, value in record.items():\n",
    "        for pos, value1 in value.items():\n",
    "            for mers, value2 in value1.items():\n",
    "\n",
    "                arr = np.array(value2, dtype=float)\n",
    "                means = arr.mean(axis=0).tolist()\n",
    "                aggregates.append({\n",
    "                    \"transcript_id\": transcript_id,\n",
    "                    \"position\": int(pos),\n",
    "                    \"kmer\": mers,\n",
    "                    \"features\": means\n",
    "                })\n",
    "    return aggregates\n",
    "\n",
    "# For each record, use the function to \"compress\", for all reads, into 9 numbers, each representing one feature.\n",
    "parsed_data = []\n",
    "for line in data:\n",
    "    parsed_data.extend(aggregation(line))\n",
    "\n",
    "# Should give the same number of lines\n",
    "print(len(parsed_data))"
   ],
   "outputs": [
    {
     "name": "stdout",
     "output_type": "stream",
     "text": [
      "121838\n"
     ]
    }
   ],
   "execution_count": 3
  },
  {
   "cell_type": "code",
   "id": "2714d260",
   "metadata": {
    "ExecuteTime": {
     "end_time": "2025-10-14T12:42:33.832857Z",
     "start_time": "2025-10-14T12:42:33.583491Z"
    }
   },
   "source": [
    "# Data manipulation of the feature dataset to make it more readable\n",
    "df_features = pd.DataFrame(parsed_data)\n",
    "features_df = pd.DataFrame(df_features[\"features\"].tolist(),\n",
    "                           columns = [f\"feature_{i+1}\" for i in range(9)])\n",
    "new_df = pd.concat([df_features.drop(columns=[\"features\"]), features_df], axis = 1)"
   ],
   "outputs": [],
   "execution_count": 4
  },
  {
   "cell_type": "code",
   "id": "c3294b7f",
   "metadata": {
    "ExecuteTime": {
     "end_time": "2025-10-14T12:43:17.846575Z",
     "start_time": "2025-10-14T12:43:17.746545Z"
    }
   },
   "source": [
    "df_labels = pd.DataFrame(data_labels)\n",
    "\n",
    "# Let us join the features and labels dataset together\n",
    "ndf = pd.merge(new_df,\n",
    "               df_labels,\n",
    "               how = 'left',\n",
    "               left_on = ['transcript_id', 'position'],\n",
    "               right_on = ['transcript_id', 'transcript_position'])\n",
    "print(len(ndf))\n",
    "# Display the first few rows to understand what the data looks like\n",
    "ndf.head()"
   ],
   "outputs": [
    {
     "name": "stdout",
     "output_type": "stream",
     "text": [
      "121838\n"
     ]
    },
    {
     "data": {
      "text/plain": [
       "     transcript_id  position     kmer  feature_1  feature_2   feature_3  \\\n",
       "0  ENST00000000233       244  AAGACCA   0.008264   4.223784  123.702703   \n",
       "1  ENST00000000233       261  CAAACTG   0.006609   3.216424  109.681395   \n",
       "2  ENST00000000233       316  GAAACAG   0.007570   2.940541  105.475676   \n",
       "3  ENST00000000233       332  AGAACAT   0.010620   6.476350  129.355000   \n",
       "4  ENST00000000233       368  AGGACAA   0.010701   6.415051  117.924242   \n",
       "\n",
       "   feature_4  feature_5   feature_6  feature_7  feature_8  feature_9  \\\n",
       "0   0.009373   7.382162  125.913514   0.007345   4.386989  80.570270   \n",
       "1   0.006813   3.226535  107.889535   0.007710   3.016599  94.290698   \n",
       "2   0.007416   3.642703   98.947027   0.007555   2.087146  89.364324   \n",
       "3   0.008632   2.899200   97.836500   0.006102   2.236520  89.154000   \n",
       "4   0.011479   5.870303  121.954545   0.010019   4.260253  85.178788   \n",
       "\n",
       "           gene_id  transcript_position  label  \n",
       "0  ENSG00000004059                  244      0  \n",
       "1  ENSG00000004059                  261      0  \n",
       "2  ENSG00000004059                  316      0  \n",
       "3  ENSG00000004059                  332      0  \n",
       "4  ENSG00000004059                  368      0  "
      ],
      "text/html": [
       "<div>\n",
       "<style scoped>\n",
       "    .dataframe tbody tr th:only-of-type {\n",
       "        vertical-align: middle;\n",
       "    }\n",
       "\n",
       "    .dataframe tbody tr th {\n",
       "        vertical-align: top;\n",
       "    }\n",
       "\n",
       "    .dataframe thead th {\n",
       "        text-align: right;\n",
       "    }\n",
       "</style>\n",
       "<table border=\"1\" class=\"dataframe\">\n",
       "  <thead>\n",
       "    <tr style=\"text-align: right;\">\n",
       "      <th></th>\n",
       "      <th>transcript_id</th>\n",
       "      <th>position</th>\n",
       "      <th>kmer</th>\n",
       "      <th>feature_1</th>\n",
       "      <th>feature_2</th>\n",
       "      <th>feature_3</th>\n",
       "      <th>feature_4</th>\n",
       "      <th>feature_5</th>\n",
       "      <th>feature_6</th>\n",
       "      <th>feature_7</th>\n",
       "      <th>feature_8</th>\n",
       "      <th>feature_9</th>\n",
       "      <th>gene_id</th>\n",
       "      <th>transcript_position</th>\n",
       "      <th>label</th>\n",
       "    </tr>\n",
       "  </thead>\n",
       "  <tbody>\n",
       "    <tr>\n",
       "      <th>0</th>\n",
       "      <td>ENST00000000233</td>\n",
       "      <td>244</td>\n",
       "      <td>AAGACCA</td>\n",
       "      <td>0.008264</td>\n",
       "      <td>4.223784</td>\n",
       "      <td>123.702703</td>\n",
       "      <td>0.009373</td>\n",
       "      <td>7.382162</td>\n",
       "      <td>125.913514</td>\n",
       "      <td>0.007345</td>\n",
       "      <td>4.386989</td>\n",
       "      <td>80.570270</td>\n",
       "      <td>ENSG00000004059</td>\n",
       "      <td>244</td>\n",
       "      <td>0</td>\n",
       "    </tr>\n",
       "    <tr>\n",
       "      <th>1</th>\n",
       "      <td>ENST00000000233</td>\n",
       "      <td>261</td>\n",
       "      <td>CAAACTG</td>\n",
       "      <td>0.006609</td>\n",
       "      <td>3.216424</td>\n",
       "      <td>109.681395</td>\n",
       "      <td>0.006813</td>\n",
       "      <td>3.226535</td>\n",
       "      <td>107.889535</td>\n",
       "      <td>0.007710</td>\n",
       "      <td>3.016599</td>\n",
       "      <td>94.290698</td>\n",
       "      <td>ENSG00000004059</td>\n",
       "      <td>261</td>\n",
       "      <td>0</td>\n",
       "    </tr>\n",
       "    <tr>\n",
       "      <th>2</th>\n",
       "      <td>ENST00000000233</td>\n",
       "      <td>316</td>\n",
       "      <td>GAAACAG</td>\n",
       "      <td>0.007570</td>\n",
       "      <td>2.940541</td>\n",
       "      <td>105.475676</td>\n",
       "      <td>0.007416</td>\n",
       "      <td>3.642703</td>\n",
       "      <td>98.947027</td>\n",
       "      <td>0.007555</td>\n",
       "      <td>2.087146</td>\n",
       "      <td>89.364324</td>\n",
       "      <td>ENSG00000004059</td>\n",
       "      <td>316</td>\n",
       "      <td>0</td>\n",
       "    </tr>\n",
       "    <tr>\n",
       "      <th>3</th>\n",
       "      <td>ENST00000000233</td>\n",
       "      <td>332</td>\n",
       "      <td>AGAACAT</td>\n",
       "      <td>0.010620</td>\n",
       "      <td>6.476350</td>\n",
       "      <td>129.355000</td>\n",
       "      <td>0.008632</td>\n",
       "      <td>2.899200</td>\n",
       "      <td>97.836500</td>\n",
       "      <td>0.006102</td>\n",
       "      <td>2.236520</td>\n",
       "      <td>89.154000</td>\n",
       "      <td>ENSG00000004059</td>\n",
       "      <td>332</td>\n",
       "      <td>0</td>\n",
       "    </tr>\n",
       "    <tr>\n",
       "      <th>4</th>\n",
       "      <td>ENST00000000233</td>\n",
       "      <td>368</td>\n",
       "      <td>AGGACAA</td>\n",
       "      <td>0.010701</td>\n",
       "      <td>6.415051</td>\n",
       "      <td>117.924242</td>\n",
       "      <td>0.011479</td>\n",
       "      <td>5.870303</td>\n",
       "      <td>121.954545</td>\n",
       "      <td>0.010019</td>\n",
       "      <td>4.260253</td>\n",
       "      <td>85.178788</td>\n",
       "      <td>ENSG00000004059</td>\n",
       "      <td>368</td>\n",
       "      <td>0</td>\n",
       "    </tr>\n",
       "  </tbody>\n",
       "</table>\n",
       "</div>"
      ]
     },
     "execution_count": 5,
     "metadata": {},
     "output_type": "execute_result"
    }
   ],
   "execution_count": 5
  },
  {
   "cell_type": "markdown",
   "id": "08835b54",
   "metadata": {},
   "source": [
    "### Splitting the data\n",
    "We have a joined dataset, features and labels together. Now split the dataset into training and test sets, without having the same `gene_id` appear in both training and test set."
   ]
  },
  {
   "metadata": {
    "ExecuteTime": {
     "end_time": "2025-10-14T12:43:36.883138Z",
     "start_time": "2025-10-14T12:43:36.873925Z"
    }
   },
   "cell_type": "code",
   "source": [
    "# Capture all the unique gene ids\n",
    "unique_genes = ndf['gene_id'].unique()"
   ],
   "id": "ff4b1513978c1615",
   "outputs": [],
   "execution_count": 6
  },
  {
   "cell_type": "code",
   "id": "8f7d1e1f",
   "metadata": {
    "ExecuteTime": {
     "end_time": "2025-10-14T12:44:42.835634Z",
     "start_time": "2025-10-14T12:44:38.610995Z"
    }
   },
   "source": [
    "# Split these genes into train and test genes in a 4:1 ratio, and ensure they do not reappear in either train or test data set\n",
    "from sklearn.model_selection import train_test_split\n",
    "train_gene, test_gene = train_test_split(unique_genes, test_size=0.2, random_state=42)\n",
    "\n",
    "# Create train and test datasets\n",
    "train_df = ndf[ndf['gene_id'].isin(train_gene)]\n",
    "test_df = ndf[ndf['gene_id'].isin(test_gene)]\n",
    "\n",
    "# Verify that there is indeed no repeated gene_id between train and test data sets\n",
    "repeated_genes = set(train_df['gene_id']).intersection(set(test_df['gene_id']))\n",
    "len(repeated_genes)"
   ],
   "outputs": [
    {
     "data": {
      "text/plain": [
       "0"
      ]
     },
     "execution_count": 7,
     "metadata": {},
     "output_type": "execute_result"
    }
   ],
   "execution_count": 7
  },
  {
   "metadata": {},
   "cell_type": "markdown",
   "source": [
    "### Class imbalance\n",
    "It is observed that the number of \"0\" records heavily dominates the number of \"1\" records in the training data. Need to fix this issue to prevent the trained model from becoming biased toward the majority class."
   ],
   "id": "874b725808d4e3f1"
  },
  {
   "metadata": {
    "ExecuteTime": {
     "end_time": "2025-10-14T12:45:05.223704Z",
     "start_time": "2025-10-14T12:45:05.159391Z"
    }
   },
   "cell_type": "code",
   "source": [
    "df_0 = train_df[train_df[\"label\"] == 0]\n",
    "# Randomly shuffle the rows\n",
    "df0 = df_0.sample(frac=1, random_state=42).reset_index(drop=True)\n",
    "df1 = train_df[train_df[\"label\"] == 1]\n",
    "print(f\"Number of records labelled 0: {len(df0)}\")\n",
    "print(f\"Number of records labelled 1: {len(df1)}\")"
   ],
   "id": "65f79ac2ffa4c716",
   "outputs": [
    {
     "name": "stdout",
     "output_type": "stream",
     "text": [
      "Number of records labelled 0: 92368\n",
      "Number of records labelled 1: 4471\n"
     ]
    }
   ],
   "execution_count": 8
  },
  {
   "metadata": {},
   "cell_type": "markdown",
   "source": [
    "## Performing hyperparameter tuning\n",
    "This section performs hyperparameter tuning to identify the best combination of parameters that will make up the final model. Conducted on a subset of training data that has the number of \"0\" records to \"1\" records near a ratio of 1:1, for fast tuning."
   ],
   "id": "d539a0b0654e9844"
  },
  {
   "metadata": {
    "ExecuteTime": {
     "end_time": "2025-10-14T10:37:24.473475Z",
     "start_time": "2025-10-14T10:37:24.447636Z"
    }
   },
   "cell_type": "code",
   "source": [
    "# Hyperparameter tuning with a more balanced training set, with number of \"0\" records to \"1\" records near the ratio of 1:1\n",
    "# Objective is to just find the best combination of parameters\n",
    "df0_hyper = df0.iloc[:5000]\n",
    "df_hyper = pd.concat([df0_hyper, df1], ignore_index=True)\n",
    "# Randomly shuffle the rows for GridSearchCV\n",
    "df_hyp = df_hyper.sample(frac=1, random_state=42).reset_index(drop=True)\n",
    "df_hyp.head()"
   ],
   "id": "976570838424c5ec",
   "outputs": [
    {
     "data": {
      "text/plain": [
       "     transcript_id  position     kmer  feature_1  feature_2   feature_3  \\\n",
       "0  ENST00000422090      1225  GTGACCA   0.005712   4.888605   99.434884   \n",
       "1  ENST00000339775      1327  AGAACAC   0.008468   7.915185  130.777778   \n",
       "2  ENST00000301019      2278  TGGACAG   0.009758   3.337253  114.065934   \n",
       "3  ENST00000310931      4434  CAGACTC   0.006035   6.871818  106.885714   \n",
       "4  ENST00000307102      2558  TTAACCA   0.007056   1.938277   91.055319   \n",
       "\n",
       "   feature_4  feature_5   feature_6  feature_7  feature_8  feature_9  \\\n",
       "0   0.008741   8.908372  114.883721   0.006148   2.933209  78.730233   \n",
       "1   0.009431   3.790741   97.703704   0.007042   2.029519  91.914815   \n",
       "2   0.010860   5.477363  112.450549   0.011198   3.327033  79.974725   \n",
       "3   0.008658   4.614286  128.259740   0.007237   2.762338  89.302597   \n",
       "4   0.006703   2.681553   92.653191   0.006615   1.823277  82.978723   \n",
       "\n",
       "           gene_id  transcript_position  label  \n",
       "0  ENSG00000213024                 1225      0  \n",
       "1  ENSG00000154640                 1327      0  \n",
       "2  ENSG00000167513                 2278      1  \n",
       "3  ENSG00000115677                 4434      1  \n",
       "4  ENSG00000169032                 2558      0  "
      ],
      "text/html": [
       "<div>\n",
       "<style scoped>\n",
       "    .dataframe tbody tr th:only-of-type {\n",
       "        vertical-align: middle;\n",
       "    }\n",
       "\n",
       "    .dataframe tbody tr th {\n",
       "        vertical-align: top;\n",
       "    }\n",
       "\n",
       "    .dataframe thead th {\n",
       "        text-align: right;\n",
       "    }\n",
       "</style>\n",
       "<table border=\"1\" class=\"dataframe\">\n",
       "  <thead>\n",
       "    <tr style=\"text-align: right;\">\n",
       "      <th></th>\n",
       "      <th>transcript_id</th>\n",
       "      <th>position</th>\n",
       "      <th>kmer</th>\n",
       "      <th>feature_1</th>\n",
       "      <th>feature_2</th>\n",
       "      <th>feature_3</th>\n",
       "      <th>feature_4</th>\n",
       "      <th>feature_5</th>\n",
       "      <th>feature_6</th>\n",
       "      <th>feature_7</th>\n",
       "      <th>feature_8</th>\n",
       "      <th>feature_9</th>\n",
       "      <th>gene_id</th>\n",
       "      <th>transcript_position</th>\n",
       "      <th>label</th>\n",
       "    </tr>\n",
       "  </thead>\n",
       "  <tbody>\n",
       "    <tr>\n",
       "      <th>0</th>\n",
       "      <td>ENST00000422090</td>\n",
       "      <td>1225</td>\n",
       "      <td>GTGACCA</td>\n",
       "      <td>0.005712</td>\n",
       "      <td>4.888605</td>\n",
       "      <td>99.434884</td>\n",
       "      <td>0.008741</td>\n",
       "      <td>8.908372</td>\n",
       "      <td>114.883721</td>\n",
       "      <td>0.006148</td>\n",
       "      <td>2.933209</td>\n",
       "      <td>78.730233</td>\n",
       "      <td>ENSG00000213024</td>\n",
       "      <td>1225</td>\n",
       "      <td>0</td>\n",
       "    </tr>\n",
       "    <tr>\n",
       "      <th>1</th>\n",
       "      <td>ENST00000339775</td>\n",
       "      <td>1327</td>\n",
       "      <td>AGAACAC</td>\n",
       "      <td>0.008468</td>\n",
       "      <td>7.915185</td>\n",
       "      <td>130.777778</td>\n",
       "      <td>0.009431</td>\n",
       "      <td>3.790741</td>\n",
       "      <td>97.703704</td>\n",
       "      <td>0.007042</td>\n",
       "      <td>2.029519</td>\n",
       "      <td>91.914815</td>\n",
       "      <td>ENSG00000154640</td>\n",
       "      <td>1327</td>\n",
       "      <td>0</td>\n",
       "    </tr>\n",
       "    <tr>\n",
       "      <th>2</th>\n",
       "      <td>ENST00000301019</td>\n",
       "      <td>2278</td>\n",
       "      <td>TGGACAG</td>\n",
       "      <td>0.009758</td>\n",
       "      <td>3.337253</td>\n",
       "      <td>114.065934</td>\n",
       "      <td>0.010860</td>\n",
       "      <td>5.477363</td>\n",
       "      <td>112.450549</td>\n",
       "      <td>0.011198</td>\n",
       "      <td>3.327033</td>\n",
       "      <td>79.974725</td>\n",
       "      <td>ENSG00000167513</td>\n",
       "      <td>2278</td>\n",
       "      <td>1</td>\n",
       "    </tr>\n",
       "    <tr>\n",
       "      <th>3</th>\n",
       "      <td>ENST00000310931</td>\n",
       "      <td>4434</td>\n",
       "      <td>CAGACTC</td>\n",
       "      <td>0.006035</td>\n",
       "      <td>6.871818</td>\n",
       "      <td>106.885714</td>\n",
       "      <td>0.008658</td>\n",
       "      <td>4.614286</td>\n",
       "      <td>128.259740</td>\n",
       "      <td>0.007237</td>\n",
       "      <td>2.762338</td>\n",
       "      <td>89.302597</td>\n",
       "      <td>ENSG00000115677</td>\n",
       "      <td>4434</td>\n",
       "      <td>1</td>\n",
       "    </tr>\n",
       "    <tr>\n",
       "      <th>4</th>\n",
       "      <td>ENST00000307102</td>\n",
       "      <td>2558</td>\n",
       "      <td>TTAACCA</td>\n",
       "      <td>0.007056</td>\n",
       "      <td>1.938277</td>\n",
       "      <td>91.055319</td>\n",
       "      <td>0.006703</td>\n",
       "      <td>2.681553</td>\n",
       "      <td>92.653191</td>\n",
       "      <td>0.006615</td>\n",
       "      <td>1.823277</td>\n",
       "      <td>82.978723</td>\n",
       "      <td>ENSG00000169032</td>\n",
       "      <td>2558</td>\n",
       "      <td>0</td>\n",
       "    </tr>\n",
       "  </tbody>\n",
       "</table>\n",
       "</div>"
      ]
     },
     "execution_count": 15,
     "metadata": {},
     "output_type": "execute_result"
    }
   ],
   "execution_count": 15
  },
  {
   "metadata": {
    "ExecuteTime": {
     "end_time": "2025-10-14T11:07:40.113282Z",
     "start_time": "2025-10-14T10:37:37.169720Z"
    }
   },
   "cell_type": "code",
   "source": [
    "# Hyperparameter Tuning of Support Vector Machine (SVM) with GridSearchCV\n",
    "from sklearn.svm import SVC\n",
    "from sklearn.model_selection import GridSearchCV\n",
    "from sklearn import svm\n",
    "\n",
    "param_grid = {\n",
    "    'C': [1, 10, 100],\n",
    "    'gamma': [0.0001, 0.001, 0.01],\n",
    "    'kernel': ['rbf', 'linear']\n",
    "}\n",
    "\n",
    "svc = svm.SVC(random_state=42)\n",
    "model = GridSearchCV(svc, param_grid, refit=True, cv=5, verbose=2)\n",
    "\n",
    "# Identify the features and labels from the training data\n",
    "model.fit(df_hyp.iloc[:, 3:12], df_hyp[\"label\"])\n",
    "# Best parameters found by GridSearchCV, using a default scoring metric of accuracy\n",
    "print(\"Best Parameters:\", model.best_params_)"
   ],
   "id": "16c2981315abf211",
   "outputs": [
    {
     "name": "stdout",
     "output_type": "stream",
     "text": [
      "Fitting 5 folds for each of 18 candidates, totalling 90 fits\n",
      "[CV] END ......................C=1, gamma=0.0001, kernel=rbf; total time=   2.1s\n",
      "[CV] END ......................C=1, gamma=0.0001, kernel=rbf; total time=   2.0s\n",
      "[CV] END ......................C=1, gamma=0.0001, kernel=rbf; total time=   2.1s\n",
      "[CV] END ......................C=1, gamma=0.0001, kernel=rbf; total time=   2.0s\n",
      "[CV] END ......................C=1, gamma=0.0001, kernel=rbf; total time=   2.1s\n",
      "[CV] END ...................C=1, gamma=0.0001, kernel=linear; total time=   9.0s\n",
      "[CV] END ...................C=1, gamma=0.0001, kernel=linear; total time=   8.5s\n",
      "[CV] END ...................C=1, gamma=0.0001, kernel=linear; total time=  15.0s\n",
      "[CV] END ...................C=1, gamma=0.0001, kernel=linear; total time=   8.8s\n",
      "[CV] END ...................C=1, gamma=0.0001, kernel=linear; total time=   9.1s\n",
      "[CV] END .......................C=1, gamma=0.001, kernel=rbf; total time=   1.4s\n",
      "[CV] END .......................C=1, gamma=0.001, kernel=rbf; total time=   1.4s\n",
      "[CV] END .......................C=1, gamma=0.001, kernel=rbf; total time=   1.4s\n",
      "[CV] END .......................C=1, gamma=0.001, kernel=rbf; total time=   1.5s\n",
      "[CV] END .......................C=1, gamma=0.001, kernel=rbf; total time=   1.5s\n",
      "[CV] END ....................C=1, gamma=0.001, kernel=linear; total time=   9.6s\n",
      "[CV] END ....................C=1, gamma=0.001, kernel=linear; total time=   9.4s\n",
      "[CV] END ....................C=1, gamma=0.001, kernel=linear; total time=   9.6s\n",
      "[CV] END ....................C=1, gamma=0.001, kernel=linear; total time=  11.0s\n",
      "[CV] END ....................C=1, gamma=0.001, kernel=linear; total time=  16.6s\n",
      "[CV] END ........................C=1, gamma=0.01, kernel=rbf; total time=   2.8s\n",
      "[CV] END ........................C=1, gamma=0.01, kernel=rbf; total time=   2.7s\n",
      "[CV] END ........................C=1, gamma=0.01, kernel=rbf; total time=   2.7s\n",
      "[CV] END ........................C=1, gamma=0.01, kernel=rbf; total time=   2.6s\n",
      "[CV] END ........................C=1, gamma=0.01, kernel=rbf; total time=   2.5s\n",
      "[CV] END .....................C=1, gamma=0.01, kernel=linear; total time=  16.9s\n",
      "[CV] END .....................C=1, gamma=0.01, kernel=linear; total time=  15.8s\n",
      "[CV] END .....................C=1, gamma=0.01, kernel=linear; total time=  15.5s\n",
      "[CV] END .....................C=1, gamma=0.01, kernel=linear; total time=  15.8s\n",
      "[CV] END .....................C=1, gamma=0.01, kernel=linear; total time=  15.6s\n",
      "[CV] END .....................C=10, gamma=0.0001, kernel=rbf; total time=   2.6s\n",
      "[CV] END .....................C=10, gamma=0.0001, kernel=rbf; total time=   2.8s\n",
      "[CV] END .....................C=10, gamma=0.0001, kernel=rbf; total time=   2.9s\n",
      "[CV] END .....................C=10, gamma=0.0001, kernel=rbf; total time=   3.1s\n",
      "[CV] END .....................C=10, gamma=0.0001, kernel=rbf; total time=   2.8s\n",
      "[CV] END ..................C=10, gamma=0.0001, kernel=linear; total time=  48.9s\n",
      "[CV] END ..................C=10, gamma=0.0001, kernel=linear; total time=  49.9s\n",
      "[CV] END ..................C=10, gamma=0.0001, kernel=linear; total time=  51.5s\n",
      "[CV] END ..................C=10, gamma=0.0001, kernel=linear; total time=  50.1s\n",
      "[CV] END ..................C=10, gamma=0.0001, kernel=linear; total time=  51.4s\n",
      "[CV] END ......................C=10, gamma=0.001, kernel=rbf; total time=   2.3s\n",
      "[CV] END ......................C=10, gamma=0.001, kernel=rbf; total time=   2.4s\n",
      "[CV] END ......................C=10, gamma=0.001, kernel=rbf; total time=   2.5s\n",
      "[CV] END ......................C=10, gamma=0.001, kernel=rbf; total time=   2.6s\n",
      "[CV] END ......................C=10, gamma=0.001, kernel=rbf; total time=   2.5s\n",
      "[CV] END ...................C=10, gamma=0.001, kernel=linear; total time=  48.6s\n",
      "[CV] END ...................C=10, gamma=0.001, kernel=linear; total time=  46.6s\n",
      "[CV] END ...................C=10, gamma=0.001, kernel=linear; total time=  50.4s\n",
      "[CV] END ...................C=10, gamma=0.001, kernel=linear; total time=  49.3s\n",
      "[CV] END ...................C=10, gamma=0.001, kernel=linear; total time=  51.2s\n",
      "[CV] END .......................C=10, gamma=0.01, kernel=rbf; total time=   2.6s\n",
      "[CV] END .......................C=10, gamma=0.01, kernel=rbf; total time=   2.5s\n",
      "[CV] END .......................C=10, gamma=0.01, kernel=rbf; total time=   2.7s\n",
      "[CV] END .......................C=10, gamma=0.01, kernel=rbf; total time=   2.7s\n",
      "[CV] END .......................C=10, gamma=0.01, kernel=rbf; total time=   2.7s\n",
      "[CV] END ....................C=10, gamma=0.01, kernel=linear; total time=  49.2s\n",
      "[CV] END ....................C=10, gamma=0.01, kernel=linear; total time=  50.7s\n",
      "[CV] END ....................C=10, gamma=0.01, kernel=linear; total time=  52.1s\n",
      "[CV] END ....................C=10, gamma=0.01, kernel=linear; total time=  49.2s\n",
      "[CV] END ....................C=10, gamma=0.01, kernel=linear; total time=  49.4s\n",
      "[CV] END ....................C=100, gamma=0.0001, kernel=rbf; total time=   3.0s\n",
      "[CV] END ....................C=100, gamma=0.0001, kernel=rbf; total time=   2.9s\n",
      "[CV] END ....................C=100, gamma=0.0001, kernel=rbf; total time=   2.9s\n",
      "[CV] END ....................C=100, gamma=0.0001, kernel=rbf; total time=   3.1s\n",
      "[CV] END ....................C=100, gamma=0.0001, kernel=rbf; total time=   2.9s\n",
      "[CV] END .................C=100, gamma=0.0001, kernel=linear; total time=  57.1s\n",
      "[CV] END .................C=100, gamma=0.0001, kernel=linear; total time=  55.8s\n",
      "[CV] END .................C=100, gamma=0.0001, kernel=linear; total time= 1.0min\n",
      "[CV] END .................C=100, gamma=0.0001, kernel=linear; total time=  58.7s\n",
      "[CV] END .................C=100, gamma=0.0001, kernel=linear; total time=  48.6s\n",
      "[CV] END .....................C=100, gamma=0.001, kernel=rbf; total time=   3.0s\n",
      "[CV] END .....................C=100, gamma=0.001, kernel=rbf; total time=   3.1s\n",
      "[CV] END .....................C=100, gamma=0.001, kernel=rbf; total time=   3.4s\n",
      "[CV] END .....................C=100, gamma=0.001, kernel=rbf; total time=   3.2s\n",
      "[CV] END .....................C=100, gamma=0.001, kernel=rbf; total time=   3.1s\n",
      "[CV] END ..................C=100, gamma=0.001, kernel=linear; total time=  57.2s\n",
      "[CV] END ..................C=100, gamma=0.001, kernel=linear; total time=  57.3s\n",
      "[CV] END ..................C=100, gamma=0.001, kernel=linear; total time=  59.1s\n",
      "[CV] END ..................C=100, gamma=0.001, kernel=linear; total time=  57.6s\n",
      "[CV] END ..................C=100, gamma=0.001, kernel=linear; total time=  56.5s\n",
      "[CV] END ......................C=100, gamma=0.01, kernel=rbf; total time=   4.2s\n",
      "[CV] END ......................C=100, gamma=0.01, kernel=rbf; total time=   4.1s\n",
      "[CV] END ......................C=100, gamma=0.01, kernel=rbf; total time=   4.6s\n",
      "[CV] END ......................C=100, gamma=0.01, kernel=rbf; total time=   4.5s\n",
      "[CV] END ......................C=100, gamma=0.01, kernel=rbf; total time=   4.1s\n",
      "[CV] END ...................C=100, gamma=0.01, kernel=linear; total time=  33.7s\n",
      "[CV] END ...................C=100, gamma=0.01, kernel=linear; total time=  32.1s\n",
      "[CV] END ...................C=100, gamma=0.01, kernel=linear; total time=  32.7s\n",
      "[CV] END ...................C=100, gamma=0.01, kernel=linear; total time=  31.9s\n",
      "[CV] END ...................C=100, gamma=0.01, kernel=linear; total time=  33.5s\n",
      "Best Parameters: {'C': 100, 'gamma': 0.01, 'kernel': 'rbf'}\n"
     ]
    }
   ],
   "execution_count": 16
  },
  {
   "metadata": {},
   "cell_type": "markdown",
   "source": [
    "### Training the final model\n",
    "With the best combination of parameters from hyperparameter tuning, train the final model"
   ],
   "id": "a743999f276bda51"
  },
  {
   "metadata": {
    "ExecuteTime": {
     "end_time": "2025-10-14T12:46:06.402842Z",
     "start_time": "2025-10-14T12:46:06.393606Z"
    }
   },
   "cell_type": "code",
   "source": [
    "# Hyperparameter tuning with a slightly less balanced training set, with number of \"0\" records to \"1\" records near the ratio of 4:1\n",
    "df0_sub = df0.iloc[:16000]\n",
    "df_final = pd.concat([df0_sub, df1], ignore_index=True)"
   ],
   "id": "804121e7e0c11305",
   "outputs": [],
   "execution_count": 9
  },
  {
   "cell_type": "code",
   "id": "fa4d77c5",
   "metadata": {
    "ExecuteTime": {
     "end_time": "2025-10-14T11:12:19.084446Z",
     "start_time": "2025-10-14T11:09:44.988873Z"
    }
   },
   "source": [
    "from sklearn.svm import SVC\n",
    "\n",
    "# Train SVM on the training data, with the best combination of parameters from tuning (C:100, gamma:0.01, kernel:'rbf')\n",
    "svm_model = SVC(kernel='rbf', C = 100, gamma = 0.01, class_weight='balanced',\n",
    "                probability = True, random_state=42)\n",
    "# Identify the features and labels, and fit the model to them\n",
    "svm_model.fit(df_final.iloc[:, 3:12], df_final[\"label\"])\n",
    "\n",
    "# After training the model, we can test on our validation set\n",
    "y_prob = svm_model.predict_proba(test_df.iloc[:, 3:12])\n",
    "y_pred = svm_model.predict(test_df.iloc[:, 3:12])"
   ],
   "outputs": [],
   "execution_count": 18
  },
  {
   "metadata": {},
   "cell_type": "markdown",
   "source": "### Evaluation on test set",
   "id": "794a9b69cb2d7a26"
  },
  {
   "cell_type": "code",
   "id": "7654ae7e",
   "metadata": {
    "ExecuteTime": {
     "end_time": "2025-10-14T11:15:17.946422Z",
     "start_time": "2025-10-14T11:15:17.908462Z"
    }
   },
   "source": [
    "from sklearn.metrics import accuracy_score, roc_auc_score, average_precision_score, f1_score, precision_score, recall_score, confusion_matrix\n",
    "\n",
    "print(\"SVM Accuracy:\", accuracy_score(test_df[\"label\"], y_pred))\n",
    "print(\"ROC_AUC Score:\", roc_auc_score(test_df[\"label\"], y_prob[:, 1]))\n",
    "print(\"PR_AUC Score:\", average_precision_score(test_df[\"label\"], y_prob[:, 1]))\n",
    "print(\"F1 Score:\", f1_score(test_df[\"label\"], y_pred))\n",
    "print(\"Precision:\", precision_score(test_df[\"label\"], y_pred))\n",
    "print(\"Recall:\", recall_score(test_df[\"label\"], y_pred))"
   ],
   "outputs": [
    {
     "name": "stdout",
     "output_type": "stream",
     "text": [
      "SVM Accuracy: 0.8262730509220368\n",
      "ROC_AUC Score: 0.8627600869703101\n",
      "PR_AUC Score: 0.32257460536880667\n",
      "F1 Score: 0.2584941096124296\n",
      "Precision: 0.1559859880486297\n",
      "Recall: 0.7539840637450199\n"
     ]
    }
   ],
   "execution_count": 19
  },
  {
   "metadata": {
    "ExecuteTime": {
     "end_time": "2025-10-14T11:15:54.208837Z",
     "start_time": "2025-10-14T11:15:54.200760Z"
    }
   },
   "cell_type": "code",
   "source": [
    "# Confusion matrix on test set\n",
    "print(confusion_matrix(test_df[\"label\"], y_pred))"
   ],
   "id": "d27c717d19755748",
   "outputs": [
    {
     "name": "stdout",
     "output_type": "stream",
     "text": [
      "[[19899  4096]\n",
      " [  247   757]]\n"
     ]
    }
   ],
   "execution_count": 20
  },
  {
   "cell_type": "code",
   "id": "34929c1c",
   "metadata": {
    "ExecuteTime": {
     "end_time": "2025-10-14T11:16:17.400388Z",
     "start_time": "2025-10-14T11:16:17.391648Z"
    }
   },
   "source": [
    "# Save the final model as a .pkl file\n",
    "import pickle\n",
    "\n",
    "with open(\"svm_train.pkl\", \"wb\") as f:\n",
    "    pickle.dump(svm_model, f)"
   ],
   "outputs": [],
   "execution_count": 21
  },
  {
   "metadata": {},
   "cell_type": "markdown",
   "source": [
    "### Training a second SVM\n",
    "Training a second model to produce a second set of predictions, with the best combination of parameters too. But this time, instead of the first 16000 records of the shuffled `df0`, extract the last 16000 records of it."
   ],
   "id": "31bfaf1207f7f98d"
  },
  {
   "metadata": {
    "ExecuteTime": {
     "end_time": "2025-10-14T12:54:48.407951Z",
     "start_time": "2025-10-14T12:54:48.399906Z"
    }
   },
   "cell_type": "code",
   "source": [
    "df0_sub = df0.iloc[-16000:]\n",
    "df_final = pd.concat([df0_sub, df1], ignore_index=True)"
   ],
   "id": "83931fcd87cd81d8",
   "outputs": [],
   "execution_count": 13
  },
  {
   "metadata": {
    "ExecuteTime": {
     "end_time": "2025-10-14T12:56:43.534915Z",
     "start_time": "2025-10-14T12:54:54.997608Z"
    }
   },
   "cell_type": "code",
   "source": [
    "from sklearn.svm import SVC\n",
    "\n",
    "# Train SVM on the training data, with the best combination of parameters from tuning (C:100, gamma:0.01, kernel:'rbf')\n",
    "svm_model = SVC(kernel='rbf', C=100, gamma=0.01, class_weight='balanced',\n",
    "                probability=True, random_state=1)\n",
    "# Identify the features and labels, and fit the model to them\n",
    "svm_model.fit(df_final.iloc[:, 3:12], df_final[\"label\"])\n",
    "\n",
    "# After training the model, we can test on our validation set\n",
    "y_prob = svm_model.predict_proba(test_df.iloc[:, 3:12])\n",
    "y_pred = svm_model.predict(test_df.iloc[:, 3:12])"
   ],
   "id": "e96ae11b5568a3d6",
   "outputs": [],
   "execution_count": 14
  },
  {
   "metadata": {
    "ExecuteTime": {
     "end_time": "2025-10-14T12:56:49.592874Z",
     "start_time": "2025-10-14T12:56:49.565410Z"
    }
   },
   "cell_type": "code",
   "source": [
    "from sklearn.metrics import accuracy_score, roc_auc_score, average_precision_score, f1_score, precision_score, \\\n",
    "    recall_score, confusion_matrix\n",
    "\n",
    "print(\"SVM Accuracy:\", accuracy_score(test_df[\"label\"], y_pred))\n",
    "print(\"ROC_AUC Score:\", roc_auc_score(test_df[\"label\"], y_prob[:, 1]))\n",
    "print(\"PR_AUC Score:\", average_precision_score(test_df[\"label\"], y_prob[:, 1]))\n",
    "print(\"F1 Score:\", f1_score(test_df[\"label\"], y_pred))\n",
    "print(\"Precision:\", precision_score(test_df[\"label\"], y_pred))\n",
    "print(\"Recall:\", recall_score(test_df[\"label\"], y_pred))"
   ],
   "id": "8f71cd7844184de6",
   "outputs": [
    {
     "name": "stdout",
     "output_type": "stream",
     "text": [
      "SVM Accuracy: 0.8284331373254931\n",
      "ROC_AUC Score: 0.8598173673300131\n",
      "PR_AUC Score: 0.3095739442981673\n",
      "F1 Score: 0.2616629368221725\n",
      "Precision: 0.15816857440166493\n",
      "Recall: 0.7569721115537849\n"
     ]
    }
   ],
   "execution_count": 15
  },
  {
   "metadata": {
    "ExecuteTime": {
     "end_time": "2025-10-14T12:58:52.254748Z",
     "start_time": "2025-10-14T12:58:52.244735Z"
    }
   },
   "cell_type": "code",
   "source": [
    "# Confusion matrix on test set\n",
    "print(confusion_matrix(test_df[\"label\"], y_pred))"
   ],
   "id": "a2b11956253f5322",
   "outputs": [
    {
     "name": "stdout",
     "output_type": "stream",
     "text": [
      "[[19950  4045]\n",
      " [  244   760]]\n"
     ]
    }
   ],
   "execution_count": 16
  },
  {
   "metadata": {},
   "cell_type": "markdown",
   "source": "Comparing the evaluation metrics of both SVM models, the second model appears to be more accurate in predicting true positives and true negatives, and is slightly preferred to the first model.",
   "id": "c4652086daf4b543"
  },
  {
   "metadata": {
    "ExecuteTime": {
     "end_time": "2025-10-14T13:01:02.935209Z",
     "start_time": "2025-10-14T13:01:02.928156Z"
    }
   },
   "cell_type": "code",
   "source": [
    "# Save this model as a .pkl file too\n",
    "import pickle\n",
    "\n",
    "with open(\"svm_train_2.pkl\", \"wb\") as f:\n",
    "    pickle.dump(svm_model, f)"
   ],
   "id": "585b70b7dc46f3ad",
   "outputs": [],
   "execution_count": 17
  }
 ],
 "metadata": {
  "kernelspec": {
   "display_name": "Python 3",
   "language": "python",
   "name": "python3"
  },
  "language_info": {
   "codemirror_mode": {
    "name": "ipython",
    "version": 3
   },
   "file_extension": ".py",
   "mimetype": "text/x-python",
   "name": "python",
   "nbconvert_exporter": "python",
   "pygments_lexer": "ipython3",
   "version": "3.13.5"
  }
 },
 "nbformat": 4,
 "nbformat_minor": 5
}
