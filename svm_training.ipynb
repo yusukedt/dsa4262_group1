{
 "cells": [
  {
   "cell_type": "markdown",
   "id": "205539e5",
   "metadata": {},
   "source": [
    "**SVM Model for training**\n",
    "-\n",
    "The purpose of this notebook is to import direct RNA sequencing data and use it for training a machine learning model. This model is then optimized to get the final model. The data used in this notebook are `dataset0.json`, which contains the feature data, and `data.info.labelled`, which contains the actual labels. "
   ]
  },
  {
   "cell_type": "code",
   "execution_count": 2,
   "id": "fc553161",
   "metadata": {},
   "outputs": [],
   "source": [
    "# Load the JSON file, reading each line and storing it as an element in a list\n",
    "import gzip\n",
    "import json\n",
    "\n",
    "json_path = \"dataset0.json.gz\"\n",
    "\n",
    "# Load in the feature data\n",
    "data = []\n",
    "with gzip.open(json_path, 'rt', encoding='utf-8') as f: \n",
    "    for line in f:\n",
    "        if line.strip():  # skip empty lines\n",
    "            record = json.loads(line)\n",
    "            data.append(record)"
   ]
  },
  {
   "cell_type": "code",
   "execution_count": 3,
   "id": "6cc7f655",
   "metadata": {},
   "outputs": [],
   "source": [
    "# Load in the m6A label data\n",
    "import pandas as pd\n",
    "\n",
    "data_labels = pd.read_csv(\"data.info.labelled\")"
   ]
  },
  {
   "cell_type": "markdown",
   "id": "86231a45",
   "metadata": {},
   "source": [
    "### Aggregation of feature reads data"
   ]
  },
  {
   "cell_type": "code",
   "execution_count": null,
   "id": "ce258f5b",
   "metadata": {},
   "outputs": [
    {
     "name": "stdout",
     "output_type": "stream",
     "text": [
      "121838\n"
     ]
    }
   ],
   "source": [
    "# Let us compute the aggregate numbers for each line/record, by mean\n",
    "import numpy as np\n",
    "\n",
    "def aggregation(record):\n",
    "    aggregates = []\n",
    "\n",
    "    for transcript_id, value in record.items():\n",
    "        for pos, value1 in value.items():\n",
    "            for mers, value2 in value1.items():\n",
    "\n",
    "                arr = np.array(value2, dtype=float)\n",
    "                means = arr.mean(axis=0).tolist()\n",
    "                aggregates.append({\n",
    "                    \"transcript_id\": transcript_id,\n",
    "                    \"position\": int(pos),\n",
    "                    \"kmer\": mers,\n",
    "                    \"features\": means\n",
    "                })\n",
    "    return aggregates\n",
    "\n",
    "# For each record, use the function.\n",
    "parsed_data = []\n",
    "for line in data:\n",
    "    parsed_data.extend(aggregation(line))\n",
    "\n",
    "# Should give the same number of lines\n",
    "print(len(parsed_data))"
   ]
  },
  {
   "cell_type": "code",
   "execution_count": 5,
   "id": "2714d260",
   "metadata": {},
   "outputs": [],
   "source": [
    "# Data manipulation of the feature dataset to make it more readable\n",
    "df_features = pd.DataFrame(parsed_data)\n",
    "features_df = pd.DataFrame(df_features[\"features\"].tolist(),\n",
    "                           columns = [f\"feature_{i+1}\" for i in range(9)])\n",
    "new_df = pd.concat([df_features.drop(columns=[\"features\"]), features_df], axis = 1)"
   ]
  },
  {
   "cell_type": "code",
   "execution_count": 6,
   "id": "c3294b7f",
   "metadata": {},
   "outputs": [
    {
     "name": "stdout",
     "output_type": "stream",
     "text": [
      "121838\n"
     ]
    },
    {
     "data": {
      "text/html": [
       "<div>\n",
       "<style scoped>\n",
       "    .dataframe tbody tr th:only-of-type {\n",
       "        vertical-align: middle;\n",
       "    }\n",
       "\n",
       "    .dataframe tbody tr th {\n",
       "        vertical-align: top;\n",
       "    }\n",
       "\n",
       "    .dataframe thead th {\n",
       "        text-align: right;\n",
       "    }\n",
       "</style>\n",
       "<table border=\"1\" class=\"dataframe\">\n",
       "  <thead>\n",
       "    <tr style=\"text-align: right;\">\n",
       "      <th></th>\n",
       "      <th>transcript_id</th>\n",
       "      <th>position</th>\n",
       "      <th>kmer</th>\n",
       "      <th>feature_1</th>\n",
       "      <th>feature_2</th>\n",
       "      <th>feature_3</th>\n",
       "      <th>feature_4</th>\n",
       "      <th>feature_5</th>\n",
       "      <th>feature_6</th>\n",
       "      <th>feature_7</th>\n",
       "      <th>feature_8</th>\n",
       "      <th>feature_9</th>\n",
       "      <th>gene_id</th>\n",
       "      <th>transcript_position</th>\n",
       "      <th>label</th>\n",
       "    </tr>\n",
       "  </thead>\n",
       "  <tbody>\n",
       "    <tr>\n",
       "      <th>0</th>\n",
       "      <td>ENST00000000233</td>\n",
       "      <td>244</td>\n",
       "      <td>AAGACCA</td>\n",
       "      <td>0.008264</td>\n",
       "      <td>4.223784</td>\n",
       "      <td>123.702703</td>\n",
       "      <td>0.009373</td>\n",
       "      <td>7.382162</td>\n",
       "      <td>125.913514</td>\n",
       "      <td>0.007345</td>\n",
       "      <td>4.386989</td>\n",
       "      <td>80.570270</td>\n",
       "      <td>ENSG00000004059</td>\n",
       "      <td>244</td>\n",
       "      <td>0</td>\n",
       "    </tr>\n",
       "    <tr>\n",
       "      <th>1</th>\n",
       "      <td>ENST00000000233</td>\n",
       "      <td>261</td>\n",
       "      <td>CAAACTG</td>\n",
       "      <td>0.006609</td>\n",
       "      <td>3.216424</td>\n",
       "      <td>109.681395</td>\n",
       "      <td>0.006813</td>\n",
       "      <td>3.226535</td>\n",
       "      <td>107.889535</td>\n",
       "      <td>0.007710</td>\n",
       "      <td>3.016599</td>\n",
       "      <td>94.290698</td>\n",
       "      <td>ENSG00000004059</td>\n",
       "      <td>261</td>\n",
       "      <td>0</td>\n",
       "    </tr>\n",
       "    <tr>\n",
       "      <th>2</th>\n",
       "      <td>ENST00000000233</td>\n",
       "      <td>316</td>\n",
       "      <td>GAAACAG</td>\n",
       "      <td>0.007570</td>\n",
       "      <td>2.940541</td>\n",
       "      <td>105.475676</td>\n",
       "      <td>0.007416</td>\n",
       "      <td>3.642703</td>\n",
       "      <td>98.947027</td>\n",
       "      <td>0.007555</td>\n",
       "      <td>2.087146</td>\n",
       "      <td>89.364324</td>\n",
       "      <td>ENSG00000004059</td>\n",
       "      <td>316</td>\n",
       "      <td>0</td>\n",
       "    </tr>\n",
       "    <tr>\n",
       "      <th>3</th>\n",
       "      <td>ENST00000000233</td>\n",
       "      <td>332</td>\n",
       "      <td>AGAACAT</td>\n",
       "      <td>0.010620</td>\n",
       "      <td>6.476350</td>\n",
       "      <td>129.355000</td>\n",
       "      <td>0.008632</td>\n",
       "      <td>2.899200</td>\n",
       "      <td>97.836500</td>\n",
       "      <td>0.006102</td>\n",
       "      <td>2.236520</td>\n",
       "      <td>89.154000</td>\n",
       "      <td>ENSG00000004059</td>\n",
       "      <td>332</td>\n",
       "      <td>0</td>\n",
       "    </tr>\n",
       "    <tr>\n",
       "      <th>4</th>\n",
       "      <td>ENST00000000233</td>\n",
       "      <td>368</td>\n",
       "      <td>AGGACAA</td>\n",
       "      <td>0.010701</td>\n",
       "      <td>6.415051</td>\n",
       "      <td>117.924242</td>\n",
       "      <td>0.011479</td>\n",
       "      <td>5.870303</td>\n",
       "      <td>121.954545</td>\n",
       "      <td>0.010019</td>\n",
       "      <td>4.260253</td>\n",
       "      <td>85.178788</td>\n",
       "      <td>ENSG00000004059</td>\n",
       "      <td>368</td>\n",
       "      <td>0</td>\n",
       "    </tr>\n",
       "  </tbody>\n",
       "</table>\n",
       "</div>"
      ],
      "text/plain": [
       "     transcript_id  position     kmer  feature_1  feature_2   feature_3  \\\n",
       "0  ENST00000000233       244  AAGACCA   0.008264   4.223784  123.702703   \n",
       "1  ENST00000000233       261  CAAACTG   0.006609   3.216424  109.681395   \n",
       "2  ENST00000000233       316  GAAACAG   0.007570   2.940541  105.475676   \n",
       "3  ENST00000000233       332  AGAACAT   0.010620   6.476350  129.355000   \n",
       "4  ENST00000000233       368  AGGACAA   0.010701   6.415051  117.924242   \n",
       "\n",
       "   feature_4  feature_5   feature_6  feature_7  feature_8  feature_9  \\\n",
       "0   0.009373   7.382162  125.913514   0.007345   4.386989  80.570270   \n",
       "1   0.006813   3.226535  107.889535   0.007710   3.016599  94.290698   \n",
       "2   0.007416   3.642703   98.947027   0.007555   2.087146  89.364324   \n",
       "3   0.008632   2.899200   97.836500   0.006102   2.236520  89.154000   \n",
       "4   0.011479   5.870303  121.954545   0.010019   4.260253  85.178788   \n",
       "\n",
       "           gene_id  transcript_position  label  \n",
       "0  ENSG00000004059                  244      0  \n",
       "1  ENSG00000004059                  261      0  \n",
       "2  ENSG00000004059                  316      0  \n",
       "3  ENSG00000004059                  332      0  \n",
       "4  ENSG00000004059                  368      0  "
      ]
     },
     "execution_count": 6,
     "metadata": {},
     "output_type": "execute_result"
    }
   ],
   "source": [
    "df_labels = pd.DataFrame(data_labels)\n",
    "\n",
    "# Let us join the features and labels dataset together\n",
    "ndf = pd.merge(new_df,\n",
    "               df_labels,\n",
    "               how = 'left',\n",
    "               left_on = ['transcript_id', 'position'],\n",
    "               right_on = ['transcript_id', 'transcript_position'])\n",
    "print(len(ndf))\n",
    "ndf.head()"
   ]
  },
  {
   "cell_type": "code",
   "execution_count": 7,
   "id": "9892d2d6",
   "metadata": {},
   "outputs": [
    {
     "name": "stdout",
     "output_type": "stream",
     "text": [
      "Number of records labelled 0: 116363\n",
      "Number of records labelled 1: 5475\n"
     ]
    }
   ],
   "source": [
    "df_0 = ndf[ndf[\"label\"] == 0]\n",
    "# Randomly shuffle the rows\n",
    "df0 = df_0.sample(frac=1, random_state=42).reset_index(drop=True)\n",
    "df1 = ndf[ndf[\"label\"] == 1]\n",
    "print(f\"Number of records labelled 0: {len(df0)}\")\n",
    "print(f\"Number of records labelled 1: {len(df1)}\")"
   ]
  },
  {
   "cell_type": "markdown",
   "id": "d201a231",
   "metadata": {},
   "source": [
    "## Performing hyperparameter tuning\n",
    "I will perform hyperparameter tuning to identify the best combination of parameters that will make up the final model. This is conducted on a subset of train data that has a smaller number of \"0\" records so as to make tuning faster."
   ]
  },
  {
   "cell_type": "code",
   "execution_count": 94,
   "id": "43287bc8",
   "metadata": {},
   "outputs": [],
   "source": [
    "# Near the ratio of 3:1 \n",
    "df0_sub = df0.iloc[:15000]\n",
    "dfs = pd.concat([df0_sub, df1], ignore_index=True)\n",
    "\n",
    "# Identify the features columns and label column\n",
    "X = dfs.iloc[:, 3:12]\n",
    "y = dfs[\"label\"]\n",
    "\n",
    "# Split the data into training and testing sets in a 4:1 ratio\n",
    "from sklearn.model_selection import train_test_split\n",
    "X_train, X_test, y_train, y_test = train_test_split(\n",
    "    X, y, test_size=0.2, random_state=42, stratify=y)"
   ]
  },
  {
   "cell_type": "code",
   "execution_count": 95,
   "id": "cd24aa56",
   "metadata": {},
   "outputs": [
    {
     "name": "stdout",
     "output_type": "stream",
     "text": [
      "Fitting 5 folds for each of 18 candidates, totalling 90 fits\n",
      "[CV] END ......................C=1, gamma=0.0001, kernel=rbf; total time=   8.8s\n",
      "[CV] END ......................C=1, gamma=0.0001, kernel=rbf; total time=   9.7s\n",
      "[CV] END ......................C=1, gamma=0.0001, kernel=rbf; total time=   9.0s\n",
      "[CV] END ......................C=1, gamma=0.0001, kernel=rbf; total time=   8.0s\n",
      "[CV] END ......................C=1, gamma=0.0001, kernel=rbf; total time=   8.6s\n",
      "[CV] END ...................C=1, gamma=0.0001, kernel=linear; total time= 1.7min\n",
      "[CV] END ...................C=1, gamma=0.0001, kernel=linear; total time= 1.5min\n",
      "[CV] END ...................C=1, gamma=0.0001, kernel=linear; total time= 2.2min\n",
      "[CV] END ...................C=1, gamma=0.0001, kernel=linear; total time= 2.3min\n",
      "[CV] END ...................C=1, gamma=0.0001, kernel=linear; total time= 2.4min\n",
      "[CV] END .......................C=1, gamma=0.001, kernel=rbf; total time=  16.0s\n",
      "[CV] END .......................C=1, gamma=0.001, kernel=rbf; total time=  16.9s\n",
      "[CV] END .......................C=1, gamma=0.001, kernel=rbf; total time=  15.0s\n",
      "[CV] END .......................C=1, gamma=0.001, kernel=rbf; total time=  15.6s\n",
      "[CV] END .......................C=1, gamma=0.001, kernel=rbf; total time=  15.3s\n",
      "[CV] END ....................C=1, gamma=0.001, kernel=linear; total time= 3.6min\n",
      "[CV] END ....................C=1, gamma=0.001, kernel=linear; total time= 3.7min\n",
      "[CV] END ....................C=1, gamma=0.001, kernel=linear; total time= 4.1min\n",
      "[CV] END ....................C=1, gamma=0.001, kernel=linear; total time= 4.3min\n",
      "[CV] END ....................C=1, gamma=0.001, kernel=linear; total time= 1.6min\n",
      "[CV] END ........................C=1, gamma=0.01, kernel=rbf; total time=   3.8s\n",
      "[CV] END ........................C=1, gamma=0.01, kernel=rbf; total time=   3.5s\n",
      "[CV] END ........................C=1, gamma=0.01, kernel=rbf; total time=   3.8s\n",
      "[CV] END ........................C=1, gamma=0.01, kernel=rbf; total time=   3.7s\n",
      "[CV] END ........................C=1, gamma=0.01, kernel=rbf; total time=   3.8s\n",
      "[CV] END .....................C=1, gamma=0.01, kernel=linear; total time=  56.4s\n",
      "[CV] END .....................C=1, gamma=0.01, kernel=linear; total time=  51.9s\n",
      "[CV] END .....................C=1, gamma=0.01, kernel=linear; total time=  54.3s\n",
      "[CV] END .....................C=1, gamma=0.01, kernel=linear; total time=  56.5s\n",
      "[CV] END .....................C=1, gamma=0.01, kernel=linear; total time=  55.1s\n",
      "[CV] END .....................C=10, gamma=0.0001, kernel=rbf; total time=   4.8s\n",
      "[CV] END .....................C=10, gamma=0.0001, kernel=rbf; total time=   4.5s\n",
      "[CV] END .....................C=10, gamma=0.0001, kernel=rbf; total time=   4.5s\n",
      "[CV] END .....................C=10, gamma=0.0001, kernel=rbf; total time=   4.8s\n",
      "[CV] END .....................C=10, gamma=0.0001, kernel=rbf; total time=   4.6s\n",
      "[CV] END ..................C=10, gamma=0.0001, kernel=linear; total time= 1.2min\n",
      "[CV] END ..................C=10, gamma=0.0001, kernel=linear; total time= 1.3min\n",
      "[CV] END ..................C=10, gamma=0.0001, kernel=linear; total time= 1.3min\n",
      "[CV] END ..................C=10, gamma=0.0001, kernel=linear; total time= 1.4min\n",
      "[CV] END ..................C=10, gamma=0.0001, kernel=linear; total time= 2.2min\n",
      "[CV] END ......................C=10, gamma=0.001, kernel=rbf; total time=   6.5s\n",
      "[CV] END ......................C=10, gamma=0.001, kernel=rbf; total time=   6.3s\n",
      "[CV] END ......................C=10, gamma=0.001, kernel=rbf; total time=   7.0s\n",
      "[CV] END ......................C=10, gamma=0.001, kernel=rbf; total time=   6.4s\n",
      "[CV] END ......................C=10, gamma=0.001, kernel=rbf; total time=   6.9s\n",
      "[CV] END ...................C=10, gamma=0.001, kernel=linear; total time= 2.1min\n",
      "[CV] END ...................C=10, gamma=0.001, kernel=linear; total time= 2.1min\n",
      "[CV] END ...................C=10, gamma=0.001, kernel=linear; total time= 2.2min\n",
      "[CV] END ...................C=10, gamma=0.001, kernel=linear; total time= 1.8min\n",
      "[CV] END ...................C=10, gamma=0.001, kernel=linear; total time= 2.2min\n",
      "[CV] END .......................C=10, gamma=0.01, kernel=rbf; total time=   7.0s\n",
      "[CV] END .......................C=10, gamma=0.01, kernel=rbf; total time=   7.1s\n",
      "[CV] END .......................C=10, gamma=0.01, kernel=rbf; total time=   6.9s\n",
      "[CV] END .......................C=10, gamma=0.01, kernel=rbf; total time=   7.2s\n",
      "[CV] END .......................C=10, gamma=0.01, kernel=rbf; total time=   7.2s\n",
      "[CV] END ....................C=10, gamma=0.01, kernel=linear; total time= 2.1min\n",
      "[CV] END ....................C=10, gamma=0.01, kernel=linear; total time= 2.1min\n",
      "[CV] END ....................C=10, gamma=0.01, kernel=linear; total time= 2.1min\n",
      "[CV] END ....................C=10, gamma=0.01, kernel=linear; total time= 2.1min\n",
      "[CV] END ....................C=10, gamma=0.01, kernel=linear; total time= 2.2min\n",
      "[CV] END ....................C=100, gamma=0.0001, kernel=rbf; total time=   7.4s\n",
      "[CV] END ....................C=100, gamma=0.0001, kernel=rbf; total time=   7.0s\n",
      "[CV] END ....................C=100, gamma=0.0001, kernel=rbf; total time=   7.6s\n",
      "[CV] END ....................C=100, gamma=0.0001, kernel=rbf; total time=   7.0s\n",
      "[CV] END ....................C=100, gamma=0.0001, kernel=rbf; total time=   7.8s\n",
      "[CV] END .................C=100, gamma=0.0001, kernel=linear; total time= 1.9min\n",
      "[CV] END .................C=100, gamma=0.0001, kernel=linear; total time= 1.6min\n",
      "[CV] END .................C=100, gamma=0.0001, kernel=linear; total time= 1.4min\n",
      "[CV] END .................C=100, gamma=0.0001, kernel=linear; total time= 1.4min\n",
      "[CV] END .................C=100, gamma=0.0001, kernel=linear; total time= 1.4min\n",
      "[CV] END .....................C=100, gamma=0.001, kernel=rbf; total time=   5.2s\n",
      "[CV] END .....................C=100, gamma=0.001, kernel=rbf; total time=   5.2s\n",
      "[CV] END .....................C=100, gamma=0.001, kernel=rbf; total time=   4.9s\n",
      "[CV] END .....................C=100, gamma=0.001, kernel=rbf; total time=   4.7s\n",
      "[CV] END .....................C=100, gamma=0.001, kernel=rbf; total time=   5.1s\n",
      "[CV] END ..................C=100, gamma=0.001, kernel=linear; total time= 1.3min\n",
      "[CV] END ..................C=100, gamma=0.001, kernel=linear; total time= 2.2min\n",
      "[CV] END ..................C=100, gamma=0.001, kernel=linear; total time= 2.1min\n",
      "[CV] END ..................C=100, gamma=0.001, kernel=linear; total time= 2.0min\n",
      "[CV] END ..................C=100, gamma=0.001, kernel=linear; total time= 1.5min\n",
      "[CV] END ......................C=100, gamma=0.01, kernel=rbf; total time=   8.4s\n",
      "[CV] END ......................C=100, gamma=0.01, kernel=rbf; total time=   7.9s\n",
      "[CV] END ......................C=100, gamma=0.01, kernel=rbf; total time=   7.6s\n",
      "[CV] END ......................C=100, gamma=0.01, kernel=rbf; total time=   8.0s\n",
      "[CV] END ......................C=100, gamma=0.01, kernel=rbf; total time=   7.4s\n",
      "[CV] END ...................C=100, gamma=0.01, kernel=linear; total time= 1.5min\n",
      "[CV] END ...................C=100, gamma=0.01, kernel=linear; total time= 1.6min\n",
      "[CV] END ...................C=100, gamma=0.01, kernel=linear; total time= 1.5min\n",
      "[CV] END ...................C=100, gamma=0.01, kernel=linear; total time= 1.2min\n",
      "[CV] END ...................C=100, gamma=0.01, kernel=linear; total time= 2.0min\n",
      "Best Parameters: {'C': 100, 'gamma': 0.01, 'kernel': 'rbf'}\n"
     ]
    }
   ],
   "source": [
    "# Hyperparameter Tuning of Support Vector Machine (SVM) with GridSearchCV\n",
    "from sklearn.svm import SVC\n",
    "from sklearn.metrics import accuracy_score, roc_auc_score\n",
    "from sklearn.metrics import classification_report\n",
    "from sklearn.model_selection import GridSearchCV\n",
    "from sklearn import svm\n",
    "\n",
    "param_grid={\n",
    "    'C':[1,10,100],\n",
    "    'gamma':[0.0001,0.001, 0.01],\n",
    "    'kernel': ['rbf', 'linear']\n",
    "    }\n",
    "\n",
    "svc=svm.SVC(random_state = 42)\n",
    "model = GridSearchCV(svc, param_grid, refit = True, cv=5, verbose=2)\n",
    "\n",
    "model.fit(X_train, y_train)\n",
    "# Best parameters found by GridSearchCV\n",
    "print(\"Best Parameters:\", model.best_params_)"
   ]
  },
  {
   "cell_type": "markdown",
   "id": "08835b54",
   "metadata": {},
   "source": [
    "### Solving the problem of imbalanced data\n",
    "Now that we have our best combination of parameters, which are {C = 100, gamma = 0.01, kernel = 'rbf'}, train the SVM model with these parameters on the training dataset."
   ]
  },
  {
   "cell_type": "code",
   "execution_count": null,
   "id": "cc4bac4e",
   "metadata": {},
   "outputs": [
    {
     "name": "stdout",
     "output_type": "stream",
     "text": [
      "30000\n",
      "35475\n"
     ]
    }
   ],
   "source": [
    "# Here, use a near to 6:1 ratio for number of \"0\" records to \"1\" records\n",
    "# We do not want it to be too imbalanced\n",
    "df0_sub = df0.iloc[:30000]\n",
    "print(len(df0_sub))\n",
    "dfs = pd.concat([df0_sub, df1], ignore_index=True)\n",
    "print(len(dfs))"
   ]
  },
  {
   "cell_type": "code",
   "execution_count": null,
   "id": "89ebceb8",
   "metadata": {},
   "outputs": [],
   "source": [
    "X = dfs.iloc[:, :12]\n",
    "y = dfs[\"label\"]"
   ]
  },
  {
   "cell_type": "code",
   "execution_count": 27,
   "id": "8f7d1e1f",
   "metadata": {},
   "outputs": [],
   "source": [
    "# We can split the data into training and testing sets in a 4:1 ratio\n",
    "from sklearn.model_selection import train_test_split\n",
    "X_train, X_test, y_train, y_test = train_test_split(\n",
    "    X, y, test_size=0.2, random_state=42, stratify=y)"
   ]
  },
  {
   "cell_type": "code",
   "execution_count": 28,
   "id": "fa4d77c5",
   "metadata": {},
   "outputs": [
    {
     "name": "stdout",
     "output_type": "stream",
     "text": [
      "SVM Accuracy: 0.8200140944326991\n"
     ]
    }
   ],
   "source": [
    "# We will use the SVM model\n",
    "from sklearn.svm import SVC\n",
    "from sklearn.metrics import accuracy_score, roc_auc_score\n",
    "from sklearn.metrics import classification_report\n",
    "\n",
    "# Note: SVM is slow on large datasets\n",
    "\n",
    "# Train SVM on the training data, with the following parameter values\n",
    "# (the best of which) as a result after hyperparameter tuning\n",
    "svm_model = SVC(kernel='rbf', C = 100, gamma = 0.01, class_weight='balanced', \n",
    "                probability = True, random_state=42)\n",
    "svm_model.fit(X_train.iloc[:, 3:12], y_train)\n",
    "\n",
    "# After training the model, we can test on our validation set\n",
    "y_prob = svm_model.predict_proba(X_test.iloc[:, 3:12])\n",
    "y_pred = svm_model.predict(X_test.iloc[:, 3:12])\n",
    "\n",
    "# Evaluate\n",
    "print(\"SVM Accuracy:\", accuracy_score(y_test, y_pred))"
   ]
  },
  {
   "cell_type": "code",
   "execution_count": 29,
   "id": "7654ae7e",
   "metadata": {},
   "outputs": [
    {
     "name": "stdout",
     "output_type": "stream",
     "text": [
      "0.8721152207001522\n",
      "0.6115614688967365\n",
      "0.5678510998307953\n"
     ]
    }
   ],
   "source": [
    "from sklearn.metrics import average_precision_score, f1_score\n",
    "print(roc_auc_score(y_test, y_prob[:, 1]))\n",
    "print(average_precision_score(y_test, y_prob[:, 1]))\n",
    "print(f1_score(y_test, y_pred))"
   ]
  },
  {
   "cell_type": "code",
   "execution_count": 31,
   "id": "34929c1c",
   "metadata": {},
   "outputs": [],
   "source": [
    "# Save the final model as a .pkl file\n",
    "import pickle\n",
    "\n",
    "with open(\"trained_svm.pkl\", \"wb\") as f:\n",
    "    pickle.dump(svm_model, f)"
   ]
  }
 ],
 "metadata": {
  "kernelspec": {
   "display_name": "Python 3",
   "language": "python",
   "name": "python3"
  },
  "language_info": {
   "codemirror_mode": {
    "name": "ipython",
    "version": 3
   },
   "file_extension": ".py",
   "mimetype": "text/x-python",
   "name": "python",
   "nbconvert_exporter": "python",
   "pygments_lexer": "ipython3",
   "version": "3.13.5"
  }
 },
 "nbformat": 4,
 "nbformat_minor": 5
}
